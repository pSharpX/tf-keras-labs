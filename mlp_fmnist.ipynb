{
 "cells": [
  {
   "cell_type": "markdown",
   "id": "9c805ff57a3ed727",
   "metadata": {},
   "source": "##  Building an Image Classifier Using the Sequential AP"
  },
  {
   "cell_type": "code",
   "id": "14ad6e63e3c3086d",
   "metadata": {
    "ExecuteTime": {
     "end_time": "2025-07-23T19:44:14.306251Z",
     "start_time": "2025-07-23T19:43:47.705410Z"
    }
   },
   "source": [
    "import tensorflow as tf\n",
    "import keras\n",
    "import numpy as np\n",
    "import pandas as pd\n",
    "import matplotlib.pyplot as plt\n",
    "import warnings\n",
    "\n",
    "warnings.filterwarnings(\"ignore\")\n",
    "\n",
    "print(f\"Tensorflow: {tf.__version__}\")\n",
    "print(f\"Keras: {keras.__version__}\")"
   ],
   "outputs": [
    {
     "name": "stdout",
     "output_type": "stream",
     "text": [
      "WARNING:tensorflow:From C:\\Users\\DELL\\AppData\\Roaming\\Python\\Python311\\site-packages\\keras\\src\\losses.py:2976: The name tf.losses.sparse_softmax_cross_entropy is deprecated. Please use tf.compat.v1.losses.sparse_softmax_cross_entropy instead.\n",
      "\n",
      "Tensorflow: 2.15.0\n",
      "Keras: 2.15.0\n"
     ]
    }
   ],
   "execution_count": 1
  },
  {
   "cell_type": "code",
   "id": "676c4b020663eb69",
   "metadata": {
    "ExecuteTime": {
     "end_time": "2025-07-23T19:44:31.553063Z",
     "start_time": "2025-07-23T19:44:31.220675Z"
    }
   },
   "source": [
    "fashion_mnist = keras.datasets.fashion_mnist\n",
    "(X_train_full, y_train_full), (X_test, y_test) = fashion_mnist.load_data()\n",
    "\n",
    "X_train_full.shape"
   ],
   "outputs": [
    {
     "data": {
      "text/plain": [
       "(60000, 28, 28)"
      ]
     },
     "execution_count": 2,
     "metadata": {},
     "output_type": "execute_result"
    }
   ],
   "execution_count": 2
  },
  {
   "metadata": {
    "ExecuteTime": {
     "end_time": "2025-07-23T19:44:33.392253Z",
     "start_time": "2025-07-23T19:44:33.385374Z"
    }
   },
   "cell_type": "code",
   "source": "y_train_full.shape",
   "id": "b608b59a78ecd835",
   "outputs": [
    {
     "data": {
      "text/plain": [
       "(60000,)"
      ]
     },
     "execution_count": 3,
     "metadata": {},
     "output_type": "execute_result"
    }
   ],
   "execution_count": 3
  },
  {
   "cell_type": "code",
   "id": "fbbde09b9d15c25a",
   "metadata": {
    "ExecuteTime": {
     "end_time": "2025-07-23T19:44:36.267365Z",
     "start_time": "2025-07-23T19:44:36.131160Z"
    }
   },
   "source": [
    "X_valid, X_train = X_train_full[:5000]/255.0, X_train_full[5000:]/255.0\n",
    "y_valid, y_train = y_train_full[:5000], y_train_full[5000:]\n",
    "X_test = X_test/255.0"
   ],
   "outputs": [],
   "execution_count": 4
  },
  {
   "metadata": {
    "ExecuteTime": {
     "end_time": "2025-07-23T19:44:39.441029Z",
     "start_time": "2025-07-23T19:44:39.433629Z"
    }
   },
   "cell_type": "code",
   "source": [
    "class_names = [\"T-shirt/top\", \"Trouser\", \"Pullover\", \"Dress\", \"Coat\", \"Sandal\", \"Shirt\", \"Sneaker\", \"Bag\", \"Ankle boot\"]\n",
    "output_length = len(class_names)\n",
    "output_length"
   ],
   "id": "5453ae434b499a5",
   "outputs": [
    {
     "data": {
      "text/plain": [
       "10"
      ]
     },
     "execution_count": 5,
     "metadata": {},
     "output_type": "execute_result"
    }
   ],
   "execution_count": 5
  },
  {
   "metadata": {},
   "cell_type": "markdown",
   "source": "### Creating the Model Using the Sequential API",
   "id": "e7705b172cd261c"
  },
  {
   "metadata": {
    "ExecuteTime": {
     "end_time": "2025-07-23T19:44:41.584189Z",
     "start_time": "2025-07-23T19:44:41.189349Z"
    }
   },
   "cell_type": "code",
   "source": [
    "model = keras.models.Sequential()\n",
    "model.add(keras.layers.Flatten(input_shape=X_train.shape[1:])) # X_train.reshape(-1, 1)\n",
    "model.add(keras.layers.Dense(300, activation='relu'))\n",
    "model.add(keras.layers.Dense(100, activation=keras.activations.relu))\n",
    "model.add(keras.layers.Dense(output_length, activation='softmax'))\n",
    "\n",
    "model.summary()"
   ],
   "id": "a3e5d35162adfb3c",
   "outputs": [
    {
     "name": "stdout",
     "output_type": "stream",
     "text": [
      "WARNING:tensorflow:From C:\\Users\\DELL\\AppData\\Roaming\\Python\\Python311\\site-packages\\keras\\src\\backend.py:873: The name tf.get_default_graph is deprecated. Please use tf.compat.v1.get_default_graph instead.\n",
      "\n",
      "Model: \"sequential\"\n",
      "_________________________________________________________________\n",
      " Layer (type)                Output Shape              Param #   \n",
      "=================================================================\n",
      " flatten (Flatten)           (None, 784)               0         \n",
      "                                                                 \n",
      " dense (Dense)               (None, 300)               235500    \n",
      "                                                                 \n",
      " dense_1 (Dense)             (None, 100)               30100     \n",
      "                                                                 \n",
      " dense_2 (Dense)             (None, 10)                1010      \n",
      "                                                                 \n",
      "=================================================================\n",
      "Total params: 266610 (1.02 MB)\n",
      "Trainable params: 266610 (1.02 MB)\n",
      "Non-trainable params: 0 (0.00 Byte)\n",
      "_________________________________________________________________\n"
     ]
    }
   ],
   "execution_count": 6
  },
  {
   "metadata": {},
   "cell_type": "markdown",
   "source": "The model’s summary() method displays all the model’s layers13, including each layer’s name (which is automatically generated unless you set it when creating the layer), its output shape (None means the batch size can be anything), and its number of parameters.",
   "id": "2db9d0ac981e3e85"
  },
  {
   "metadata": {
    "ExecuteTime": {
     "end_time": "2025-07-23T19:44:48.054434Z",
     "start_time": "2025-07-23T19:44:48.046337Z"
    }
   },
   "cell_type": "code",
   "source": [
    "print(model.layers)\n",
    "print(model.layers[0].name)\n",
    "layers_name = [layer.name for layer in model.layers]\n",
    "layers_name"
   ],
   "id": "81fa46797107a8bb",
   "outputs": [
    {
     "name": "stdout",
     "output_type": "stream",
     "text": [
      "[<keras.src.layers.reshaping.flatten.Flatten object at 0x0000017EAF708150>, <keras.src.layers.core.dense.Dense object at 0x0000017EB07B4090>, <keras.src.layers.core.dense.Dense object at 0x0000017EAF6F5C90>, <keras.src.layers.core.dense.Dense object at 0x0000017EB0AEDA10>]\n",
      "flatten\n"
     ]
    },
    {
     "data": {
      "text/plain": [
       "['flatten', 'dense', 'dense_1', 'dense_2']"
      ]
     },
     "execution_count": 7,
     "metadata": {},
     "output_type": "execute_result"
    }
   ],
   "execution_count": 7
  },
  {
   "metadata": {
    "ExecuteTime": {
     "end_time": "2025-07-23T19:44:50.742724Z",
     "start_time": "2025-07-23T19:44:50.729374Z"
    }
   },
   "cell_type": "code",
   "source": [
    "hidden_layer = model.get_layer(layers_name[1])\n",
    "weights, biases = hidden_layer.get_weights()\n",
    "print(weights.shape)\n",
    "print(biases.shape)"
   ],
   "id": "950bf67fd89f3aa8",
   "outputs": [
    {
     "name": "stdout",
     "output_type": "stream",
     "text": [
      "(784, 300)\n",
      "(300,)\n"
     ]
    }
   ],
   "execution_count": 8
  },
  {
   "metadata": {
    "ExecuteTime": {
     "end_time": "2025-07-23T19:44:53.091777Z",
     "start_time": "2025-07-23T19:44:53.086568Z"
    }
   },
   "cell_type": "code",
   "source": "weights",
   "id": "943141b643b020c1",
   "outputs": [
    {
     "data": {
      "text/plain": [
       "array([[ 0.06660174,  0.01684074,  0.05233055, ...,  0.00703537,\n",
       "         0.07025374,  0.03781852],\n",
       "       [ 0.05958168,  0.06113206,  0.03937369, ...,  0.07203975,\n",
       "        -0.02082023, -0.02218516],\n",
       "       [ 0.04791977,  0.00126714, -0.03268095, ..., -0.04279016,\n",
       "        -0.05466526,  0.02241866],\n",
       "       ...,\n",
       "       [ 0.03992472,  0.05759546, -0.06508361, ...,  0.0183254 ,\n",
       "         0.01775112, -0.01837265],\n",
       "       [-0.03986507, -0.00359248, -0.0427481 , ..., -0.06563781,\n",
       "        -0.03834514, -0.03505009],\n",
       "       [ 0.01122111,  0.0127171 ,  0.04918212, ...,  0.07310326,\n",
       "         0.02756535,  0.00327751]], dtype=float32)"
      ]
     },
     "execution_count": 9,
     "metadata": {},
     "output_type": "execute_result"
    }
   ],
   "execution_count": 9
  },
  {
   "metadata": {
    "ExecuteTime": {
     "end_time": "2025-07-23T19:44:56.486348Z",
     "start_time": "2025-07-23T19:44:56.478102Z"
    }
   },
   "cell_type": "code",
   "source": "biases",
   "id": "6746c8e51690bf0a",
   "outputs": [
    {
     "data": {
      "text/plain": [
       "array([0., 0., 0., 0., 0., 0., 0., 0., 0., 0., 0., 0., 0., 0., 0., 0., 0.,\n",
       "       0., 0., 0., 0., 0., 0., 0., 0., 0., 0., 0., 0., 0., 0., 0., 0., 0.,\n",
       "       0., 0., 0., 0., 0., 0., 0., 0., 0., 0., 0., 0., 0., 0., 0., 0., 0.,\n",
       "       0., 0., 0., 0., 0., 0., 0., 0., 0., 0., 0., 0., 0., 0., 0., 0., 0.,\n",
       "       0., 0., 0., 0., 0., 0., 0., 0., 0., 0., 0., 0., 0., 0., 0., 0., 0.,\n",
       "       0., 0., 0., 0., 0., 0., 0., 0., 0., 0., 0., 0., 0., 0., 0., 0., 0.,\n",
       "       0., 0., 0., 0., 0., 0., 0., 0., 0., 0., 0., 0., 0., 0., 0., 0., 0.,\n",
       "       0., 0., 0., 0., 0., 0., 0., 0., 0., 0., 0., 0., 0., 0., 0., 0., 0.,\n",
       "       0., 0., 0., 0., 0., 0., 0., 0., 0., 0., 0., 0., 0., 0., 0., 0., 0.,\n",
       "       0., 0., 0., 0., 0., 0., 0., 0., 0., 0., 0., 0., 0., 0., 0., 0., 0.,\n",
       "       0., 0., 0., 0., 0., 0., 0., 0., 0., 0., 0., 0., 0., 0., 0., 0., 0.,\n",
       "       0., 0., 0., 0., 0., 0., 0., 0., 0., 0., 0., 0., 0., 0., 0., 0., 0.,\n",
       "       0., 0., 0., 0., 0., 0., 0., 0., 0., 0., 0., 0., 0., 0., 0., 0., 0.,\n",
       "       0., 0., 0., 0., 0., 0., 0., 0., 0., 0., 0., 0., 0., 0., 0., 0., 0.,\n",
       "       0., 0., 0., 0., 0., 0., 0., 0., 0., 0., 0., 0., 0., 0., 0., 0., 0.,\n",
       "       0., 0., 0., 0., 0., 0., 0., 0., 0., 0., 0., 0., 0., 0., 0., 0., 0.,\n",
       "       0., 0., 0., 0., 0., 0., 0., 0., 0., 0., 0., 0., 0., 0., 0., 0., 0.,\n",
       "       0., 0., 0., 0., 0., 0., 0., 0., 0., 0., 0.], dtype=float32)"
      ]
     },
     "execution_count": 10,
     "metadata": {},
     "output_type": "execute_result"
    }
   ],
   "execution_count": 10
  },
  {
   "metadata": {},
   "cell_type": "markdown",
   "source": " ### Compiling the Model",
   "id": "7301bed2e7416a07"
  },
  {
   "metadata": {
    "ExecuteTime": {
     "end_time": "2025-07-23T19:45:02.421351Z",
     "start_time": "2025-07-23T19:45:02.335365Z"
    }
   },
   "cell_type": "code",
   "source": "model.compile(loss='sparse_categorical_crossentropy', optimizer='sgd', metrics=['accuracy'])",
   "id": "e0ee77c6ee991ad8",
   "outputs": [
    {
     "name": "stdout",
     "output_type": "stream",
     "text": [
      "WARNING:tensorflow:From C:\\Users\\DELL\\AppData\\Roaming\\Python\\Python311\\site-packages\\keras\\src\\optimizers\\__init__.py:309: The name tf.train.Optimizer is deprecated. Please use tf.compat.v1.train.Optimizer instead.\n",
      "\n"
     ]
    }
   ],
   "execution_count": 11
  },
  {
   "metadata": {},
   "cell_type": "markdown",
   "source": "###  Training and Evaluating the Model",
   "id": "9c3d14ba94e8b21a"
  },
  {
   "metadata": {
    "ExecuteTime": {
     "end_time": "2025-07-23T19:47:22.262516Z",
     "start_time": "2025-07-23T19:45:10.815021Z"
    }
   },
   "cell_type": "code",
   "source": "history = model.fit(X_train, y_train, epochs=30, validation_data=(X_valid, y_valid))",
   "id": "ac78c1c540939462",
   "outputs": [
    {
     "name": "stdout",
     "output_type": "stream",
     "text": [
      "Epoch 1/30\n",
      "WARNING:tensorflow:From C:\\Users\\DELL\\AppData\\Roaming\\Python\\Python311\\site-packages\\keras\\src\\utils\\tf_utils.py:492: The name tf.ragged.RaggedTensorValue is deprecated. Please use tf.compat.v1.ragged.RaggedTensorValue instead.\n",
      "\n",
      "WARNING:tensorflow:From C:\\Users\\DELL\\AppData\\Roaming\\Python\\Python311\\site-packages\\keras\\src\\engine\\base_layer_utils.py:384: The name tf.executing_eagerly_outside_functions is deprecated. Please use tf.compat.v1.executing_eagerly_outside_functions instead.\n",
      "\n",
      "1719/1719 [==============================] - 5s 3ms/step - loss: 0.7018 - accuracy: 0.7717 - val_loss: 0.4992 - val_accuracy: 0.8316\n",
      "Epoch 2/30\n",
      "1719/1719 [==============================] - 4s 3ms/step - loss: 0.4812 - accuracy: 0.8324 - val_loss: 0.4652 - val_accuracy: 0.8354\n",
      "Epoch 3/30\n",
      "1719/1719 [==============================] - 4s 2ms/step - loss: 0.4382 - accuracy: 0.8473 - val_loss: 0.4033 - val_accuracy: 0.8644\n",
      "Epoch 4/30\n",
      "1719/1719 [==============================] - 4s 3ms/step - loss: 0.4117 - accuracy: 0.8552 - val_loss: 0.3900 - val_accuracy: 0.8700\n",
      "Epoch 5/30\n",
      "1719/1719 [==============================] - 4s 3ms/step - loss: 0.3928 - accuracy: 0.8615 - val_loss: 0.3804 - val_accuracy: 0.8662\n",
      "Epoch 6/30\n",
      "1719/1719 [==============================] - 4s 2ms/step - loss: 0.3767 - accuracy: 0.8668 - val_loss: 0.3698 - val_accuracy: 0.8702\n",
      "Epoch 7/30\n",
      "1719/1719 [==============================] - 4s 2ms/step - loss: 0.3651 - accuracy: 0.8720 - val_loss: 0.3766 - val_accuracy: 0.8718\n",
      "Epoch 8/30\n",
      "1719/1719 [==============================] - 4s 3ms/step - loss: 0.3529 - accuracy: 0.8753 - val_loss: 0.3612 - val_accuracy: 0.8754\n",
      "Epoch 9/30\n",
      "1719/1719 [==============================] - 4s 2ms/step - loss: 0.3440 - accuracy: 0.8776 - val_loss: 0.3507 - val_accuracy: 0.8758\n",
      "Epoch 10/30\n",
      "1719/1719 [==============================] - 4s 2ms/step - loss: 0.3345 - accuracy: 0.8808 - val_loss: 0.3566 - val_accuracy: 0.8706\n",
      "Epoch 11/30\n",
      "1719/1719 [==============================] - 4s 2ms/step - loss: 0.3253 - accuracy: 0.8833 - val_loss: 0.3470 - val_accuracy: 0.8752\n",
      "Epoch 12/30\n",
      "1719/1719 [==============================] - 4s 3ms/step - loss: 0.3175 - accuracy: 0.8867 - val_loss: 0.3449 - val_accuracy: 0.8758\n",
      "Epoch 13/30\n",
      "1719/1719 [==============================] - 4s 3ms/step - loss: 0.3107 - accuracy: 0.8881 - val_loss: 0.3449 - val_accuracy: 0.8754\n",
      "Epoch 14/30\n",
      "1719/1719 [==============================] - 4s 2ms/step - loss: 0.3034 - accuracy: 0.8907 - val_loss: 0.3198 - val_accuracy: 0.8852\n",
      "Epoch 15/30\n",
      "1719/1719 [==============================] - 4s 2ms/step - loss: 0.2975 - accuracy: 0.8939 - val_loss: 0.3298 - val_accuracy: 0.8780\n",
      "Epoch 16/30\n",
      "1719/1719 [==============================] - 4s 2ms/step - loss: 0.2913 - accuracy: 0.8957 - val_loss: 0.3194 - val_accuracy: 0.8822\n",
      "Epoch 17/30\n",
      "1719/1719 [==============================] - 5s 3ms/step - loss: 0.2846 - accuracy: 0.8983 - val_loss: 0.3489 - val_accuracy: 0.8694\n",
      "Epoch 18/30\n",
      "1719/1719 [==============================] - 4s 3ms/step - loss: 0.2802 - accuracy: 0.8996 - val_loss: 0.3253 - val_accuracy: 0.8816\n",
      "Epoch 19/30\n",
      "1719/1719 [==============================] - 4s 3ms/step - loss: 0.2747 - accuracy: 0.9003 - val_loss: 0.3144 - val_accuracy: 0.8874\n",
      "Epoch 20/30\n",
      "1719/1719 [==============================] - 4s 2ms/step - loss: 0.2699 - accuracy: 0.9033 - val_loss: 0.3229 - val_accuracy: 0.8818\n",
      "Epoch 21/30\n",
      "1719/1719 [==============================] - 4s 2ms/step - loss: 0.2639 - accuracy: 0.9047 - val_loss: 0.3149 - val_accuracy: 0.8882\n",
      "Epoch 22/30\n",
      "1719/1719 [==============================] - 4s 2ms/step - loss: 0.2599 - accuracy: 0.9071 - val_loss: 0.3098 - val_accuracy: 0.8866\n",
      "Epoch 23/30\n",
      "1719/1719 [==============================] - 4s 2ms/step - loss: 0.2542 - accuracy: 0.9083 - val_loss: 0.3473 - val_accuracy: 0.8752\n",
      "Epoch 24/30\n",
      "1719/1719 [==============================] - 4s 3ms/step - loss: 0.2501 - accuracy: 0.9099 - val_loss: 0.2970 - val_accuracy: 0.8926\n",
      "Epoch 25/30\n",
      "1719/1719 [==============================] - 4s 3ms/step - loss: 0.2455 - accuracy: 0.9122 - val_loss: 0.3094 - val_accuracy: 0.8886\n",
      "Epoch 26/30\n",
      "1719/1719 [==============================] - 5s 3ms/step - loss: 0.2426 - accuracy: 0.9139 - val_loss: 0.3018 - val_accuracy: 0.8910\n",
      "Epoch 27/30\n",
      "1719/1719 [==============================] - 4s 3ms/step - loss: 0.2379 - accuracy: 0.9142 - val_loss: 0.3008 - val_accuracy: 0.8908\n",
      "Epoch 28/30\n",
      "1719/1719 [==============================] - 4s 3ms/step - loss: 0.2348 - accuracy: 0.9146 - val_loss: 0.3025 - val_accuracy: 0.8904\n",
      "Epoch 29/30\n",
      "1719/1719 [==============================] - 4s 3ms/step - loss: 0.2306 - accuracy: 0.9181 - val_loss: 0.3010 - val_accuracy: 0.8884\n",
      "Epoch 30/30\n",
      "1719/1719 [==============================] - 4s 3ms/step - loss: 0.2273 - accuracy: 0.9177 - val_loss: 0.3050 - val_accuracy: 0.8898\n"
     ]
    }
   ],
   "execution_count": 12
  },
  {
   "metadata": {
    "ExecuteTime": {
     "end_time": "2025-07-23T19:47:52.871212Z",
     "start_time": "2025-07-23T19:47:52.867184Z"
    }
   },
   "cell_type": "code",
   "source": [
    "print(history.params)\n",
    "print(history.epoch)\n",
    "print(history.history)"
   ],
   "id": "d78d1e22ebc76a61",
   "outputs": [
    {
     "name": "stdout",
     "output_type": "stream",
     "text": [
      "{'verbose': 1, 'epochs': 30, 'steps': 1719}\n",
      "[0, 1, 2, 3, 4, 5, 6, 7, 8, 9, 10, 11, 12, 13, 14, 15, 16, 17, 18, 19, 20, 21, 22, 23, 24, 25, 26, 27, 28, 29]\n",
      "{'loss': [0.7017987966537476, 0.48122477531433105, 0.43818730115890503, 0.4116729497909546, 0.39284080266952515, 0.37668439745903015, 0.36511629819869995, 0.3528686761856079, 0.3439815938472748, 0.33454692363739014, 0.3253174126148224, 0.31745070219039917, 0.3106684982776642, 0.3033636510372162, 0.29745715856552124, 0.29129862785339355, 0.284566730260849, 0.2801539897918701, 0.274711549282074, 0.26991233229637146, 0.26390114426612854, 0.2599109411239624, 0.2542021870613098, 0.2501297891139984, 0.24553418159484863, 0.24262498319149017, 0.23789170384407043, 0.23482438921928406, 0.23059234023094177, 0.22725453972816467], 'accuracy': [0.7716909050941467, 0.8324363827705383, 0.8472727537155151, 0.8551818132400513, 0.8615272641181946, 0.8668000102043152, 0.871999979019165, 0.8752909302711487, 0.8776181936264038, 0.8807818293571472, 0.8833272457122803, 0.8866727352142334, 0.8881272673606873, 0.8907272815704346, 0.8939454555511475, 0.8956727385520935, 0.8983091115951538, 0.8995636105537415, 0.9003454446792603, 0.9032909274101257, 0.9047454595565796, 0.9071090817451477, 0.9082727432250977, 0.909854531288147, 0.9121636152267456, 0.9138727188110352, 0.9142181873321533, 0.9146000146865845, 0.918145477771759, 0.9176545739173889], 'val_loss': [0.4992091655731201, 0.46523797512054443, 0.4033021926879883, 0.3899898827075958, 0.38040435314178467, 0.36978256702423096, 0.37663522362709045, 0.3611910343170166, 0.35069242119789124, 0.3565822243690491, 0.3470311462879181, 0.34491798281669617, 0.3448876738548279, 0.3197871446609497, 0.3298264145851135, 0.31943780183792114, 0.34890228509902954, 0.3253355622291565, 0.3144467771053314, 0.3229218125343323, 0.31491073966026306, 0.3098103702068329, 0.3472878038883209, 0.2969953119754791, 0.309374064207077, 0.30177438259124756, 0.3007878065109253, 0.3024873435497284, 0.3010280728340149, 0.3050321936607361], 'val_accuracy': [0.83160001039505, 0.8353999853134155, 0.8644000291824341, 0.8700000047683716, 0.8661999702453613, 0.870199978351593, 0.8718000054359436, 0.8754000067710876, 0.8758000135421753, 0.8705999851226807, 0.8751999735832214, 0.8758000135421753, 0.8754000067710876, 0.885200023651123, 0.878000020980835, 0.8822000026702881, 0.8694000244140625, 0.881600022315979, 0.8873999714851379, 0.8817999958992004, 0.8881999850273132, 0.8866000175476074, 0.8751999735832214, 0.8925999999046326, 0.8885999917984009, 0.890999972820282, 0.8907999992370605, 0.8903999924659729, 0.8884000182151794, 0.8898000121116638]}\n"
     ]
    }
   ],
   "execution_count": 13
  },
  {
   "metadata": {
    "ExecuteTime": {
     "end_time": "2025-07-23T19:48:17.210379Z",
     "start_time": "2025-07-23T19:48:16.537201Z"
    }
   },
   "cell_type": "code",
   "source": "model.evaluate(X_test, y_test)",
   "id": "aaed905dbca2b38",
   "outputs": [
    {
     "name": "stdout",
     "output_type": "stream",
     "text": [
      "313/313 [==============================] - 1s 2ms/step - loss: 0.3324 - accuracy: 0.8808\n"
     ]
    },
    {
     "data": {
      "text/plain": [
       "[0.3324246406555176, 0.8808000087738037]"
      ]
     },
     "execution_count": 14,
     "metadata": {},
     "output_type": "execute_result"
    }
   ],
   "execution_count": 14
  },
  {
   "metadata": {
    "ExecuteTime": {
     "end_time": "2025-07-23T19:48:51.663352Z",
     "start_time": "2025-07-23T19:48:51.305830Z"
    }
   },
   "cell_type": "code",
   "source": [
    "pd.DataFrame(history.history).plot(figsize=(8, 5))\n",
    "plt.grid(True)\n",
    "plt.gca().set_ylim(0, 1)\n",
    "plt.show()"
   ],
   "id": "182dc2beca27b152",
   "outputs": [
    {
     "data": {
      "text/plain": [
       "<Figure size 800x500 with 1 Axes>"
      ],
      "image/png": "[encoded data removed]"
     },
     "metadata": {},
     "output_type": "display_data"
    }
   ],
   "execution_count": 15
  },
  {
   "metadata": {},
   "cell_type": "markdown",
   "source": "### Using the Model to Make Predictions",
   "id": "a66fc860eeba6c30"
  },
  {
   "metadata": {
    "ExecuteTime": {
     "end_time": "2025-07-23T19:52:52.448753Z",
     "start_time": "2025-07-23T19:52:52.367648Z"
    }
   },
   "cell_type": "code",
   "source": [
    "X_new = X_test[:3]\n",
    "y_proba = model.predict(X_new)\n",
    "y_pred = np.argmax(y_proba, axis=1)\n",
    "print(y_pred)\n",
    "print(np.array(class_names)[y_pred])\n",
    "\n",
    "print(y_test[:3])\n",
    "print(np.array(class_names)[y_test[:3]])\n",
    "\n"
   ],
   "id": "6fcae62286d66630",
   "outputs": [
    {
     "name": "stdout",
     "output_type": "stream",
     "text": [
      "1/1 [==============================] - 0s 28ms/step\n",
      "[9 2 1]\n",
      "['Ankle boot' 'Pullover' 'Trouser']\n",
      "[9 2 1]\n",
      "['Ankle boot' 'Pullover' 'Trouser']\n"
     ]
    }
   ],
   "execution_count": 24
  }
 ],
 "metadata": {
  "kernelspec": {
   "display_name": "Python (venv)",
   "language": "python",
   "name": "tf-keras-labs"
  },
  "language_info": {
   "codemirror_mode": {
    "name": "ipython",
    "version": 3
   },
   "file_extension": ".py",
   "mimetype": "text/x-python",
   "name": "python",
   "nbconvert_exporter": "python",
   "pygments_lexer": "ipython3",
   "version": "3.12.7"
  }
 },
 "nbformat": 4,
 "nbformat_minor": 5
}
