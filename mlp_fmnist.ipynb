{
 "cells": [
  {
   "cell_type": "markdown",
   "id": "9c805ff57a3ed727",
   "metadata": {},
   "source": "##  Building an Image Classifier Using the Sequential API"
  },
  {
   "cell_type": "code",
   "id": "14ad6e63e3c3086d",
   "metadata": {
    "ExecuteTime": {
     "end_time": "2025-07-25T00:50:33.400015Z",
     "start_time": "2025-07-25T00:50:33.395447Z"
    }
   },
   "source": [
    "import tensorflow as tf\n",
    "import keras\n",
    "import numpy as np\n",
    "import pandas as pd\n",
    "import matplotlib.pyplot as plt\n",
    "import warnings\n",
    "import os\n",
    "\n",
    "warnings.filterwarnings(\"ignore\")\n",
    "\n",
    "print(f\"Tensorflow: {tf.__version__}\")\n",
    "print(f\"Keras: {keras.__version__}\")\n",
    "\n",
    "models_dir = \"./models\"\n",
    "logs_dir = \"./logs\""
   ],
   "outputs": [
    {
     "name": "stdout",
     "output_type": "stream",
     "text": [
      "Tensorflow: 2.15.0\n",
      "Keras: 2.15.0\n"
     ]
    }
   ],
   "execution_count": 27
  },
  {
   "cell_type": "code",
   "id": "676c4b020663eb69",
   "metadata": {
    "ExecuteTime": {
     "end_time": "2025-07-25T00:00:23.977396Z",
     "start_time": "2025-07-25T00:00:23.594704Z"
    }
   },
   "source": [
    "fashion_mnist = keras.datasets.fashion_mnist\n",
    "(X_train_full, y_train_full), (X_test, y_test) = fashion_mnist.load_data()\n",
    "\n",
    "X_train_full.shape"
   ],
   "outputs": [
    {
     "data": {
      "text/plain": [
       "(60000, 28, 28)"
      ]
     },
     "execution_count": 2,
     "metadata": {},
     "output_type": "execute_result"
    }
   ],
   "execution_count": 2
  },
  {
   "metadata": {
    "ExecuteTime": {
     "end_time": "2025-07-25T00:00:27.645635Z",
     "start_time": "2025-07-25T00:00:27.639715Z"
    }
   },
   "cell_type": "code",
   "source": "y_train_full.shape",
   "id": "b608b59a78ecd835",
   "outputs": [
    {
     "data": {
      "text/plain": [
       "(60000,)"
      ]
     },
     "execution_count": 3,
     "metadata": {},
     "output_type": "execute_result"
    }
   ],
   "execution_count": 3
  },
  {
   "cell_type": "code",
   "id": "fbbde09b9d15c25a",
   "metadata": {
    "ExecuteTime": {
     "end_time": "2025-07-25T00:00:30.210527Z",
     "start_time": "2025-07-25T00:00:30.046381Z"
    }
   },
   "source": [
    "X_valid, X_train = X_train_full[:5000]/255.0, X_train_full[5000:]/255.0\n",
    "y_valid, y_train = y_train_full[:5000], y_train_full[5000:]\n",
    "X_test = X_test/255.0"
   ],
   "outputs": [],
   "execution_count": 4
  },
  {
   "metadata": {
    "ExecuteTime": {
     "end_time": "2025-07-25T00:00:32.001156Z",
     "start_time": "2025-07-25T00:00:31.993797Z"
    }
   },
   "cell_type": "code",
   "source": [
    "class_names = [\"T-shirt/top\", \"Trouser\", \"Pullover\", \"Dress\", \"Coat\", \"Sandal\", \"Shirt\", \"Sneaker\", \"Bag\", \"Ankle boot\"]\n",
    "output_length = len(class_names)\n",
    "output_length"
   ],
   "id": "5453ae434b499a5",
   "outputs": [
    {
     "data": {
      "text/plain": [
       "10"
      ]
     },
     "execution_count": 5,
     "metadata": {},
     "output_type": "execute_result"
    }
   ],
   "execution_count": 5
  },
  {
   "metadata": {},
   "cell_type": "markdown",
   "source": "### Creating the Model Using the Sequential API",
   "id": "e7705b172cd261c"
  },
  {
   "metadata": {
    "ExecuteTime": {
     "end_time": "2025-07-25T00:01:03.161810Z",
     "start_time": "2025-07-25T00:01:02.536718Z"
    }
   },
   "cell_type": "code",
   "source": [
    "model = keras.models.Sequential()\n",
    "model.add(keras.layers.Flatten(input_shape=X_train.shape[1:])) # X_train.reshape(-1, 1)\n",
    "model.add(keras.layers.Dense(300, activation='relu'))\n",
    "model.add(keras.layers.Dense(100, activation=keras.activations.relu))\n",
    "model.add(keras.layers.Dense(output_length, activation='softmax'))\n",
    "\n",
    "model.summary()"
   ],
   "id": "a3e5d35162adfb3c",
   "outputs": [
    {
     "name": "stdout",
     "output_type": "stream",
     "text": [
      "WARNING:tensorflow:From C:\\Users\\DELL\\AppData\\Roaming\\Python\\Python311\\site-packages\\keras\\src\\backend.py:873: The name tf.get_default_graph is deprecated. Please use tf.compat.v1.get_default_graph instead.\n",
      "\n",
      "Model: \"sequential\"\n",
      "_________________________________________________________________\n",
      " Layer (type)                Output Shape              Param #   \n",
      "=================================================================\n",
      " flatten (Flatten)           (None, 784)               0         \n",
      "                                                                 \n",
      " dense (Dense)               (None, 300)               235500    \n",
      "                                                                 \n",
      " dense_1 (Dense)             (None, 100)               30100     \n",
      "                                                                 \n",
      " dense_2 (Dense)             (None, 10)                1010      \n",
      "                                                                 \n",
      "=================================================================\n",
      "Total params: 266610 (1.02 MB)\n",
      "Trainable params: 266610 (1.02 MB)\n",
      "Non-trainable params: 0 (0.00 Byte)\n",
      "_________________________________________________________________\n"
     ]
    }
   ],
   "execution_count": 6
  },
  {
   "metadata": {},
   "cell_type": "markdown",
   "source": "The model’s summary() method displays all the model’s layers13, including each layer’s name (which is automatically generated unless you set it when creating the layer), its output shape (None means the batch size can be anything), and its number of parameters.",
   "id": "2db9d0ac981e3e85"
  },
  {
   "metadata": {
    "ExecuteTime": {
     "end_time": "2025-07-23T19:44:48.054434Z",
     "start_time": "2025-07-23T19:44:48.046337Z"
    }
   },
   "cell_type": "code",
   "source": [
    "print(model.layers)\n",
    "print(model.layers[0].name)\n",
    "layers_name = [layer.name for layer in model.layers]\n",
    "layers_name"
   ],
   "id": "81fa46797107a8bb",
   "outputs": [
    {
     "name": "stdout",
     "output_type": "stream",
     "text": [
      "[<keras.src.layers.reshaping.flatten.Flatten object at 0x0000017EAF708150>, <keras.src.layers.core.dense.Dense object at 0x0000017EB07B4090>, <keras.src.layers.core.dense.Dense object at 0x0000017EAF6F5C90>, <keras.src.layers.core.dense.Dense object at 0x0000017EB0AEDA10>]\n",
      "flatten\n"
     ]
    },
    {
     "data": {
      "text/plain": [
       "['flatten', 'dense', 'dense_1', 'dense_2']"
      ]
     },
     "execution_count": 7,
     "metadata": {},
     "output_type": "execute_result"
    }
   ],
   "execution_count": 7
  },
  {
   "metadata": {
    "ExecuteTime": {
     "end_time": "2025-07-23T19:44:50.742724Z",
     "start_time": "2025-07-23T19:44:50.729374Z"
    }
   },
   "cell_type": "code",
   "source": [
    "hidden_layer = model.get_layer(layers_name[1])\n",
    "weights, biases = hidden_layer.get_weights()\n",
    "print(weights.shape)\n",
    "print(biases.shape)"
   ],
   "id": "950bf67fd89f3aa8",
   "outputs": [
    {
     "name": "stdout",
     "output_type": "stream",
     "text": [
      "(784, 300)\n",
      "(300,)\n"
     ]
    }
   ],
   "execution_count": 8
  },
  {
   "metadata": {
    "ExecuteTime": {
     "end_time": "2025-07-23T19:44:53.091777Z",
     "start_time": "2025-07-23T19:44:53.086568Z"
    }
   },
   "cell_type": "code",
   "source": "weights",
   "id": "943141b643b020c1",
   "outputs": [
    {
     "data": {
      "text/plain": [
       "array([[ 0.06660174,  0.01684074,  0.05233055, ...,  0.00703537,\n",
       "         0.07025374,  0.03781852],\n",
       "       [ 0.05958168,  0.06113206,  0.03937369, ...,  0.07203975,\n",
       "        -0.02082023, -0.02218516],\n",
       "       [ 0.04791977,  0.00126714, -0.03268095, ..., -0.04279016,\n",
       "        -0.05466526,  0.02241866],\n",
       "       ...,\n",
       "       [ 0.03992472,  0.05759546, -0.06508361, ...,  0.0183254 ,\n",
       "         0.01775112, -0.01837265],\n",
       "       [-0.03986507, -0.00359248, -0.0427481 , ..., -0.06563781,\n",
       "        -0.03834514, -0.03505009],\n",
       "       [ 0.01122111,  0.0127171 ,  0.04918212, ...,  0.07310326,\n",
       "         0.02756535,  0.00327751]], dtype=float32)"
      ]
     },
     "execution_count": 9,
     "metadata": {},
     "output_type": "execute_result"
    }
   ],
   "execution_count": 9
  },
  {
   "metadata": {
    "ExecuteTime": {
     "end_time": "2025-07-23T19:44:56.486348Z",
     "start_time": "2025-07-23T19:44:56.478102Z"
    }
   },
   "cell_type": "code",
   "source": "biases",
   "id": "6746c8e51690bf0a",
   "outputs": [
    {
     "data": {
      "text/plain": [
       "array([0., 0., 0., 0., 0., 0., 0., 0., 0., 0., 0., 0., 0., 0., 0., 0., 0.,\n",
       "       0., 0., 0., 0., 0., 0., 0., 0., 0., 0., 0., 0., 0., 0., 0., 0., 0.,\n",
       "       0., 0., 0., 0., 0., 0., 0., 0., 0., 0., 0., 0., 0., 0., 0., 0., 0.,\n",
       "       0., 0., 0., 0., 0., 0., 0., 0., 0., 0., 0., 0., 0., 0., 0., 0., 0.,\n",
       "       0., 0., 0., 0., 0., 0., 0., 0., 0., 0., 0., 0., 0., 0., 0., 0., 0.,\n",
       "       0., 0., 0., 0., 0., 0., 0., 0., 0., 0., 0., 0., 0., 0., 0., 0., 0.,\n",
       "       0., 0., 0., 0., 0., 0., 0., 0., 0., 0., 0., 0., 0., 0., 0., 0., 0.,\n",
       "       0., 0., 0., 0., 0., 0., 0., 0., 0., 0., 0., 0., 0., 0., 0., 0., 0.,\n",
       "       0., 0., 0., 0., 0., 0., 0., 0., 0., 0., 0., 0., 0., 0., 0., 0., 0.,\n",
       "       0., 0., 0., 0., 0., 0., 0., 0., 0., 0., 0., 0., 0., 0., 0., 0., 0.,\n",
       "       0., 0., 0., 0., 0., 0., 0., 0., 0., 0., 0., 0., 0., 0., 0., 0., 0.,\n",
       "       0., 0., 0., 0., 0., 0., 0., 0., 0., 0., 0., 0., 0., 0., 0., 0., 0.,\n",
       "       0., 0., 0., 0., 0., 0., 0., 0., 0., 0., 0., 0., 0., 0., 0., 0., 0.,\n",
       "       0., 0., 0., 0., 0., 0., 0., 0., 0., 0., 0., 0., 0., 0., 0., 0., 0.,\n",
       "       0., 0., 0., 0., 0., 0., 0., 0., 0., 0., 0., 0., 0., 0., 0., 0., 0.,\n",
       "       0., 0., 0., 0., 0., 0., 0., 0., 0., 0., 0., 0., 0., 0., 0., 0., 0.,\n",
       "       0., 0., 0., 0., 0., 0., 0., 0., 0., 0., 0., 0., 0., 0., 0., 0., 0.,\n",
       "       0., 0., 0., 0., 0., 0., 0., 0., 0., 0., 0.], dtype=float32)"
      ]
     },
     "execution_count": 10,
     "metadata": {},
     "output_type": "execute_result"
    }
   ],
   "execution_count": 10
  },
  {
   "metadata": {
    "ExecuteTime": {
     "end_time": "2025-07-25T00:02:21.830759Z",
     "start_time": "2025-07-25T00:02:19.733615Z"
    }
   },
   "cell_type": "code",
   "source": "keras.utils.plot_model(model, \"mlp_fmnist_classifier.png\", show_shapes=True)",
   "id": "514d5299b3360a60",
   "outputs": [
    {
     "data": {
      "image/png": "[encoded data removed]",
      "text/plain": [
       "<IPython.core.display.Image object>"
      ]
     },
     "execution_count": 7,
     "metadata": {},
     "output_type": "execute_result"
    }
   ],
   "execution_count": 7
  },
  {
   "metadata": {},
   "cell_type": "markdown",
   "source": "### Compiling the Model",
   "id": "7301bed2e7416a07"
  },
  {
   "metadata": {
    "ExecuteTime": {
     "end_time": "2025-07-25T00:03:43.146616Z",
     "start_time": "2025-07-25T00:03:43.059946Z"
    }
   },
   "cell_type": "code",
   "source": "model.compile(loss='sparse_categorical_crossentropy', optimizer='sgd', metrics=['accuracy'])",
   "id": "e0ee77c6ee991ad8",
   "outputs": [
    {
     "name": "stdout",
     "output_type": "stream",
     "text": [
      "WARNING:tensorflow:From C:\\Users\\DELL\\AppData\\Roaming\\Python\\Python311\\site-packages\\keras\\src\\optimizers\\__init__.py:309: The name tf.train.Optimizer is deprecated. Please use tf.compat.v1.train.Optimizer instead.\n",
      "\n"
     ]
    }
   ],
   "execution_count": 8
  },
  {
   "metadata": {},
   "cell_type": "markdown",
   "source": "###  Training and Evaluating the Model",
   "id": "9c3d14ba94e8b21a"
  },
  {
   "metadata": {
    "ExecuteTime": {
     "end_time": "2025-07-25T00:06:29.373744Z",
     "start_time": "2025-07-25T00:04:11.253636Z"
    }
   },
   "cell_type": "code",
   "source": "history = model.fit(X_train, y_train, epochs=30, validation_data=(X_valid, y_valid))",
   "id": "ac78c1c540939462",
   "outputs": [
    {
     "name": "stdout",
     "output_type": "stream",
     "text": [
      "Epoch 1/30\n",
      "WARNING:tensorflow:From C:\\Users\\DELL\\AppData\\Roaming\\Python\\Python311\\site-packages\\keras\\src\\utils\\tf_utils.py:492: The name tf.ragged.RaggedTensorValue is deprecated. Please use tf.compat.v1.ragged.RaggedTensorValue instead.\n",
      "\n",
      "WARNING:tensorflow:From C:\\Users\\DELL\\AppData\\Roaming\\Python\\Python311\\site-packages\\keras\\src\\engine\\base_layer_utils.py:384: The name tf.executing_eagerly_outside_functions is deprecated. Please use tf.compat.v1.executing_eagerly_outside_functions instead.\n",
      "\n",
      "1719/1719 [==============================] - 5s 3ms/step - loss: 0.7055 - accuracy: 0.7713 - val_loss: 0.5225 - val_accuracy: 0.8164\n",
      "Epoch 2/30\n",
      "1719/1719 [==============================] - 4s 3ms/step - loss: 0.4851 - accuracy: 0.8312 - val_loss: 0.4647 - val_accuracy: 0.8434\n",
      "Epoch 3/30\n",
      "1719/1719 [==============================] - 4s 3ms/step - loss: 0.4421 - accuracy: 0.8449 - val_loss: 0.4253 - val_accuracy: 0.8574\n",
      "Epoch 4/30\n",
      "1719/1719 [==============================] - 4s 3ms/step - loss: 0.4164 - accuracy: 0.8543 - val_loss: 0.3926 - val_accuracy: 0.8674\n",
      "Epoch 5/30\n",
      "1719/1719 [==============================] - 4s 3ms/step - loss: 0.3959 - accuracy: 0.8612 - val_loss: 0.3864 - val_accuracy: 0.8632\n",
      "Epoch 6/30\n",
      "1719/1719 [==============================] - 4s 3ms/step - loss: 0.3798 - accuracy: 0.8678 - val_loss: 0.3741 - val_accuracy: 0.8688\n",
      "Epoch 7/30\n",
      "1719/1719 [==============================] - 5s 3ms/step - loss: 0.3655 - accuracy: 0.8716 - val_loss: 0.3695 - val_accuracy: 0.8726\n",
      "Epoch 8/30\n",
      "1719/1719 [==============================] - 5s 3ms/step - loss: 0.3540 - accuracy: 0.8763 - val_loss: 0.3456 - val_accuracy: 0.8794\n",
      "Epoch 9/30\n",
      "1719/1719 [==============================] - 5s 3ms/step - loss: 0.3444 - accuracy: 0.8782 - val_loss: 0.3502 - val_accuracy: 0.8762\n",
      "Epoch 10/30\n",
      "1719/1719 [==============================] - 5s 3ms/step - loss: 0.3336 - accuracy: 0.8822 - val_loss: 0.3417 - val_accuracy: 0.8802\n",
      "Epoch 11/30\n",
      "1719/1719 [==============================] - 5s 3ms/step - loss: 0.3255 - accuracy: 0.8838 - val_loss: 0.3453 - val_accuracy: 0.8800\n",
      "Epoch 12/30\n",
      "1719/1719 [==============================] - 4s 3ms/step - loss: 0.3165 - accuracy: 0.8863 - val_loss: 0.3263 - val_accuracy: 0.8856\n",
      "Epoch 13/30\n",
      "1719/1719 [==============================] - 4s 3ms/step - loss: 0.3104 - accuracy: 0.8887 - val_loss: 0.3165 - val_accuracy: 0.8882\n",
      "Epoch 14/30\n",
      "1719/1719 [==============================] - 5s 3ms/step - loss: 0.3031 - accuracy: 0.8916 - val_loss: 0.3354 - val_accuracy: 0.8802\n",
      "Epoch 15/30\n",
      "1719/1719 [==============================] - 5s 3ms/step - loss: 0.2957 - accuracy: 0.8941 - val_loss: 0.3264 - val_accuracy: 0.8840\n",
      "Epoch 16/30\n",
      "1719/1719 [==============================] - 5s 3ms/step - loss: 0.2903 - accuracy: 0.8955 - val_loss: 0.3122 - val_accuracy: 0.8872\n",
      "Epoch 17/30\n",
      "1719/1719 [==============================] - 5s 3ms/step - loss: 0.2845 - accuracy: 0.8977 - val_loss: 0.3122 - val_accuracy: 0.8878\n",
      "Epoch 18/30\n",
      "1719/1719 [==============================] - 4s 3ms/step - loss: 0.2793 - accuracy: 0.8989 - val_loss: 0.3227 - val_accuracy: 0.8826\n",
      "Epoch 19/30\n",
      "1719/1719 [==============================] - 4s 3ms/step - loss: 0.2738 - accuracy: 0.9025 - val_loss: 0.3021 - val_accuracy: 0.8936\n",
      "Epoch 20/30\n",
      "1719/1719 [==============================] - 4s 3ms/step - loss: 0.2687 - accuracy: 0.9029 - val_loss: 0.3225 - val_accuracy: 0.8850\n",
      "Epoch 21/30\n",
      "1719/1719 [==============================] - 4s 3ms/step - loss: 0.2630 - accuracy: 0.9051 - val_loss: 0.3051 - val_accuracy: 0.8896\n",
      "Epoch 22/30\n",
      "1719/1719 [==============================] - 4s 3ms/step - loss: 0.2587 - accuracy: 0.9059 - val_loss: 0.3231 - val_accuracy: 0.8812\n",
      "Epoch 23/30\n",
      "1719/1719 [==============================] - 4s 3ms/step - loss: 0.2537 - accuracy: 0.9083 - val_loss: 0.3058 - val_accuracy: 0.8884\n",
      "Epoch 24/30\n",
      "1719/1719 [==============================] - 5s 3ms/step - loss: 0.2498 - accuracy: 0.9105 - val_loss: 0.3040 - val_accuracy: 0.8908\n",
      "Epoch 25/30\n",
      "1719/1719 [==============================] - 4s 3ms/step - loss: 0.2452 - accuracy: 0.9117 - val_loss: 0.2961 - val_accuracy: 0.8936\n",
      "Epoch 26/30\n",
      "1719/1719 [==============================] - 4s 3ms/step - loss: 0.2412 - accuracy: 0.9134 - val_loss: 0.3046 - val_accuracy: 0.8878\n",
      "Epoch 27/30\n",
      "1719/1719 [==============================] - 5s 3ms/step - loss: 0.2363 - accuracy: 0.9155 - val_loss: 0.2942 - val_accuracy: 0.8930\n",
      "Epoch 28/30\n",
      "1719/1719 [==============================] - 5s 3ms/step - loss: 0.2335 - accuracy: 0.9156 - val_loss: 0.2887 - val_accuracy: 0.9004\n",
      "Epoch 29/30\n",
      "1719/1719 [==============================] - 4s 3ms/step - loss: 0.2288 - accuracy: 0.9179 - val_loss: 0.2972 - val_accuracy: 0.8906\n",
      "Epoch 30/30\n",
      "1719/1719 [==============================] - 4s 3ms/step - loss: 0.2257 - accuracy: 0.9199 - val_loss: 0.2887 - val_accuracy: 0.8948\n"
     ]
    }
   ],
   "execution_count": 9
  },
  {
   "metadata": {
    "ExecuteTime": {
     "end_time": "2025-07-23T19:47:52.871212Z",
     "start_time": "2025-07-23T19:47:52.867184Z"
    }
   },
   "cell_type": "code",
   "source": [
    "print(history.params)\n",
    "print(history.epoch)\n",
    "print(history.history)"
   ],
   "id": "d78d1e22ebc76a61",
   "outputs": [
    {
     "name": "stdout",
     "output_type": "stream",
     "text": [
      "{'verbose': 1, 'epochs': 30, 'steps': 1719}\n",
      "[0, 1, 2, 3, 4, 5, 6, 7, 8, 9, 10, 11, 12, 13, 14, 15, 16, 17, 18, 19, 20, 21, 22, 23, 24, 25, 26, 27, 28, 29]\n",
      "{'loss': [0.7017987966537476, 0.48122477531433105, 0.43818730115890503, 0.4116729497909546, 0.39284080266952515, 0.37668439745903015, 0.36511629819869995, 0.3528686761856079, 0.3439815938472748, 0.33454692363739014, 0.3253174126148224, 0.31745070219039917, 0.3106684982776642, 0.3033636510372162, 0.29745715856552124, 0.29129862785339355, 0.284566730260849, 0.2801539897918701, 0.274711549282074, 0.26991233229637146, 0.26390114426612854, 0.2599109411239624, 0.2542021870613098, 0.2501297891139984, 0.24553418159484863, 0.24262498319149017, 0.23789170384407043, 0.23482438921928406, 0.23059234023094177, 0.22725453972816467], 'accuracy': [0.7716909050941467, 0.8324363827705383, 0.8472727537155151, 0.8551818132400513, 0.8615272641181946, 0.8668000102043152, 0.871999979019165, 0.8752909302711487, 0.8776181936264038, 0.8807818293571472, 0.8833272457122803, 0.8866727352142334, 0.8881272673606873, 0.8907272815704346, 0.8939454555511475, 0.8956727385520935, 0.8983091115951538, 0.8995636105537415, 0.9003454446792603, 0.9032909274101257, 0.9047454595565796, 0.9071090817451477, 0.9082727432250977, 0.909854531288147, 0.9121636152267456, 0.9138727188110352, 0.9142181873321533, 0.9146000146865845, 0.918145477771759, 0.9176545739173889], 'val_loss': [0.4992091655731201, 0.46523797512054443, 0.4033021926879883, 0.3899898827075958, 0.38040435314178467, 0.36978256702423096, 0.37663522362709045, 0.3611910343170166, 0.35069242119789124, 0.3565822243690491, 0.3470311462879181, 0.34491798281669617, 0.3448876738548279, 0.3197871446609497, 0.3298264145851135, 0.31943780183792114, 0.34890228509902954, 0.3253355622291565, 0.3144467771053314, 0.3229218125343323, 0.31491073966026306, 0.3098103702068329, 0.3472878038883209, 0.2969953119754791, 0.309374064207077, 0.30177438259124756, 0.3007878065109253, 0.3024873435497284, 0.3010280728340149, 0.3050321936607361], 'val_accuracy': [0.83160001039505, 0.8353999853134155, 0.8644000291824341, 0.8700000047683716, 0.8661999702453613, 0.870199978351593, 0.8718000054359436, 0.8754000067710876, 0.8758000135421753, 0.8705999851226807, 0.8751999735832214, 0.8758000135421753, 0.8754000067710876, 0.885200023651123, 0.878000020980835, 0.8822000026702881, 0.8694000244140625, 0.881600022315979, 0.8873999714851379, 0.8817999958992004, 0.8881999850273132, 0.8866000175476074, 0.8751999735832214, 0.8925999999046326, 0.8885999917984009, 0.890999972820282, 0.8907999992370605, 0.8903999924659729, 0.8884000182151794, 0.8898000121116638]}\n"
     ]
    }
   ],
   "execution_count": 13
  },
  {
   "metadata": {
    "ExecuteTime": {
     "end_time": "2025-07-25T00:06:39.420313Z",
     "start_time": "2025-07-25T00:06:38.688300Z"
    }
   },
   "cell_type": "code",
   "source": "model.evaluate(X_test, y_test)",
   "id": "aaed905dbca2b38",
   "outputs": [
    {
     "name": "stdout",
     "output_type": "stream",
     "text": [
      "313/313 [==============================] - 1s 2ms/step - loss: 0.3278 - accuracy: 0.8856\n"
     ]
    },
    {
     "data": {
      "text/plain": [
       "[0.3278040587902069, 0.8855999708175659]"
      ]
     },
     "execution_count": 10,
     "metadata": {},
     "output_type": "execute_result"
    }
   ],
   "execution_count": 10
  },
  {
   "metadata": {
    "ExecuteTime": {
     "end_time": "2025-07-25T00:06:46.383521Z",
     "start_time": "2025-07-25T00:06:45.839406Z"
    }
   },
   "cell_type": "code",
   "source": [
    "pd.DataFrame(history.history).plot(figsize=(8, 5))\n",
    "plt.grid(True)\n",
    "plt.gca().set_ylim(0, 1)\n",
    "plt.show()"
   ],
   "id": "182dc2beca27b152",
   "outputs": [
    {
     "data": {
      "text/plain": [
       "<Figure size 800x500 with 1 Axes>"
      ],
      "image/png": "[encoded data removed]"
     },
     "metadata": {},
     "output_type": "display_data"
    }
   ],
   "execution_count": 11
  },
  {
   "metadata": {},
   "cell_type": "markdown",
   "source": "### Using the Model to Make Predictions",
   "id": "a66fc860eeba6c30"
  },
  {
   "metadata": {
    "ExecuteTime": {
     "end_time": "2025-07-23T19:52:52.448753Z",
     "start_time": "2025-07-23T19:52:52.367648Z"
    }
   },
   "cell_type": "code",
   "source": [
    "X_new = X_test[:3]\n",
    "y_proba = model.predict(X_new)\n",
    "y_pred = np.argmax(y_proba, axis=1)\n",
    "print(y_pred)\n",
    "print(np.array(class_names)[y_pred])\n",
    "\n",
    "print(y_test[:3])\n",
    "print(np.array(class_names)[y_test[:3]])\n",
    "\n"
   ],
   "id": "6fcae62286d66630",
   "outputs": [
    {
     "name": "stdout",
     "output_type": "stream",
     "text": [
      "1/1 [==============================] - 0s 28ms/step\n",
      "[9 2 1]\n",
      "['Ankle boot' 'Pullover' 'Trouser']\n",
      "[9 2 1]\n",
      "['Ankle boot' 'Pullover' 'Trouser']\n"
     ]
    }
   ],
   "execution_count": 24
  },
  {
   "metadata": {},
   "cell_type": "markdown",
   "source": "### Creating the Model Using the Functional API",
   "id": "97e17d6b3831ffcd"
  },
  {
   "metadata": {
    "ExecuteTime": {
     "end_time": "2025-07-25T00:18:49.665974Z",
     "start_time": "2025-07-25T00:18:49.603850Z"
    }
   },
   "cell_type": "code",
   "source": [
    "input = keras.layers.Input(shape=X_train.shape[1:])\n",
    "flatten_layer = keras.layers.Flatten()\n",
    "hidden1_layer = keras.layers.Dense(300, activation='relu')\n",
    "hidden2_layer = keras.layers.Dense(100, activation=keras.activations.relu)\n",
    "output_layer = keras.layers.Dense(output_length, activation='softmax')\n",
    "\n",
    "flatten_input = flatten_layer(input)\n",
    "hidden1 = hidden1_layer(flatten_input)\n",
    "hidden2 = hidden2_layer(hidden1)\n",
    "output = output_layer(hidden2)\n",
    "\n",
    "func_model = keras.Model(inputs=[input], outputs=[output])\n",
    "\n",
    "func_model.summary()"
   ],
   "id": "db568f86fc4e48b9",
   "outputs": [
    {
     "name": "stdout",
     "output_type": "stream",
     "text": [
      "Model: \"model\"\n",
      "_________________________________________________________________\n",
      " Layer (type)                Output Shape              Param #   \n",
      "=================================================================\n",
      " input_1 (InputLayer)        [(None, 28, 28)]          0         \n",
      "                                                                 \n",
      " flatten_2 (Flatten)         (None, 784)               0         \n",
      "                                                                 \n",
      " dense_6 (Dense)             (None, 300)               235500    \n",
      "                                                                 \n",
      " dense_7 (Dense)             (None, 100)               30100     \n",
      "                                                                 \n",
      " dense_8 (Dense)             (None, 10)                1010      \n",
      "                                                                 \n",
      "=================================================================\n",
      "Total params: 266610 (1.02 MB)\n",
      "Trainable params: 266610 (1.02 MB)\n",
      "Non-trainable params: 0 (0.00 Byte)\n",
      "_________________________________________________________________\n"
     ]
    }
   ],
   "execution_count": 13
  },
  {
   "metadata": {
    "ExecuteTime": {
     "end_time": "2025-07-25T00:19:00.993718Z",
     "start_time": "2025-07-25T00:19:00.707973Z"
    }
   },
   "cell_type": "code",
   "source": "keras.utils.plot_model(func_model, \"mlp_fmnist_classifier_functional.png\", show_shapes=True)",
   "id": "39f4147a48608efb",
   "outputs": [
    {
     "data": {
      "image/png": "[encoded data removed]",
      "text/plain": [
       "<IPython.core.display.Image object>"
      ]
     },
     "execution_count": 14,
     "metadata": {},
     "output_type": "execute_result"
    }
   ],
   "execution_count": 14
  },
  {
   "metadata": {},
   "cell_type": "markdown",
   "source": "### Compiling the Model",
   "id": "bffd13d2a9ecf8d2"
  },
  {
   "metadata": {
    "ExecuteTime": {
     "end_time": "2025-07-25T01:06:04.317023Z",
     "start_time": "2025-07-25T01:06:04.307759Z"
    }
   },
   "cell_type": "code",
   "source": [
    "optimizer = keras.optimizers.SGD(learning_rate=0.001)\n",
    "func_model.compile(loss='sparse_categorical_crossentropy', optimizer=optimizer, metrics=['accuracy'])"
   ],
   "id": "ef615327fee5e7b6",
   "outputs": [],
   "execution_count": 36
  },
  {
   "metadata": {},
   "cell_type": "markdown",
   "source": "###  Training and Evaluating the Model",
   "id": "2fdc4a004b6fd9cf"
  },
  {
   "metadata": {},
   "cell_type": "markdown",
   "source": "#### Using Callbacks",
   "id": "ad3d544b92d29fb9"
  },
  {
   "metadata": {},
   "cell_type": "markdown",
   "source": "A callbacks argument lets you specify a list of objects that Keras will call during training at the start and end of training, at the start and end of each epoch and even before and after processing each batch",
   "id": "168a6e8849deb2f1"
  },
  {
   "metadata": {},
   "cell_type": "markdown",
   "source": "For example, the ``ModelCheckpoint`` callback saves checkpoints of your model at regular intervals during training, by default at the end of each epoch:",
   "id": "3a8cbd591fddeb93"
  },
  {
   "metadata": {
    "ExecuteTime": {
     "end_time": "2025-07-25T00:23:21.372799Z",
     "start_time": "2025-07-25T00:23:21.368544Z"
    }
   },
   "cell_type": "code",
   "source": "checkpoint_cb = keras.callbacks.ModelCheckpoint(\"my_keras_model.h5\")",
   "id": "eb26cc1269881f01",
   "outputs": [],
   "execution_count": 15
  },
  {
   "metadata": {},
   "cell_type": "markdown",
   "source": " Moreover, if you use a validation set during training, you can set ``save_best_only=True`` when creating the ModelCheckpoint. In this case, it will only save your model when its performance on the validation set is the best so far",
   "id": "425b945c17f33cd0"
  },
  {
   "metadata": {
    "ExecuteTime": {
     "end_time": "2025-07-25T00:29:59.940366Z",
     "start_time": "2025-07-25T00:29:59.937258Z"
    }
   },
   "cell_type": "code",
   "source": "checkpoint_cb = keras.callbacks.ModelCheckpoint(\"my_keras_model.h5\", save_best_only=True)",
   "id": "86055de02cbca62d",
   "outputs": [],
   "execution_count": 17
  },
  {
   "metadata": {},
   "cell_type": "markdown",
   "source": "Another way to implement early stopping is to simply use the ``EarlyStopping`` callback. It will interrupt training when it measures no progress on the validation set for a number of epochs (defined by the ``patience`` argument), and it will optionally roll back to the best model.",
   "id": "ce0b79ca7042eac3"
  },
  {
   "metadata": {
    "ExecuteTime": {
     "end_time": "2025-07-25T00:30:01.509634Z",
     "start_time": "2025-07-25T00:30:01.506149Z"
    }
   },
   "cell_type": "code",
   "source": "early_stopping_cb = keras.callbacks.EarlyStopping(patience=10, restore_best_weights=True)",
   "id": "37f77af62b286144",
   "outputs": [],
   "execution_count": 18
  },
  {
   "metadata": {},
   "cell_type": "markdown",
   "source": " If you need extra control, you can easily write your own custom callbacks",
   "id": "86d26f00bdb04153"
  },
  {
   "metadata": {
    "ExecuteTime": {
     "end_time": "2025-07-25T00:35:04.398528Z",
     "start_time": "2025-07-25T00:35:04.393723Z"
    }
   },
   "cell_type": "code",
   "source": [
    "class PrintValTrainRatioCallback(keras.callbacks.Callback):\n",
    "    def on_epoch_end(self, epoch, logs=None):\n",
    "        print(\"\\nval/train: {:.2f}\".format(logs[\"val_loss\"]/logs[\"loss\"]))"
   ],
   "id": "cae45199384fe4ae",
   "outputs": [],
   "execution_count": 19
  },
  {
   "metadata": {
    "ExecuteTime": {
     "end_time": "2025-07-25T00:35:05.658182Z",
     "start_time": "2025-07-25T00:35:05.654755Z"
    }
   },
   "cell_type": "code",
   "source": "custom_cb = PrintValTrainRatioCallback()",
   "id": "2cc3cb701a867fd2",
   "outputs": [],
   "execution_count": 20
  },
  {
   "metadata": {
    "ExecuteTime": {
     "end_time": "2025-07-25T00:38:49.939876Z",
     "start_time": "2025-07-25T00:36:34.156424Z"
    }
   },
   "cell_type": "code",
   "source": "func_history = func_model.fit(X_train, y_train, epochs=30, validation_data=(X_valid, y_valid), callbacks=[checkpoint_cb, early_stopping_cb, custom_cb])",
   "id": "230f61cbc011cb16",
   "outputs": [
    {
     "name": "stdout",
     "output_type": "stream",
     "text": [
      "Epoch 1/30\n",
      "1709/1719 [============================>.] - ETA: 0s - loss: 0.7089 - accuracy: 0.7722\n",
      "val/train: 0.73\n",
      "1719/1719 [==============================] - 5s 3ms/step - loss: 0.7079 - accuracy: 0.7725 - val_loss: 0.5199 - val_accuracy: 0.8230\n",
      "Epoch 2/30\n",
      "1711/1719 [============================>.] - ETA: 0s - loss: 0.4857 - accuracy: 0.8309\n",
      "val/train: 0.93\n",
      "1719/1719 [==============================] - 4s 3ms/step - loss: 0.4854 - accuracy: 0.8311 - val_loss: 0.4532 - val_accuracy: 0.8460\n",
      "Epoch 3/30\n",
      "1717/1719 [============================>.] - ETA: 0s - loss: 0.4397 - accuracy: 0.8463\n",
      "val/train: 0.92\n",
      "1719/1719 [==============================] - 5s 3ms/step - loss: 0.4396 - accuracy: 0.8464 - val_loss: 0.4034 - val_accuracy: 0.8602\n",
      "Epoch 4/30\n",
      "1703/1719 [============================>.] - ETA: 0s - loss: 0.4113 - accuracy: 0.8557\n",
      "val/train: 1.00\n",
      "1719/1719 [==============================] - 4s 3ms/step - loss: 0.4114 - accuracy: 0.8556 - val_loss: 0.4098 - val_accuracy: 0.8608\n",
      "Epoch 5/30\n",
      "1719/1719 [==============================] - ETA: 0s - loss: 0.3914 - accuracy: 0.8627\n",
      "val/train: 1.00\n",
      "1719/1719 [==============================] - 4s 3ms/step - loss: 0.3914 - accuracy: 0.8627 - val_loss: 0.3924 - val_accuracy: 0.8644\n",
      "Epoch 6/30\n",
      "1715/1719 [============================>.] - ETA: 0s - loss: 0.3767 - accuracy: 0.8661\n",
      "val/train: 1.07\n",
      "1719/1719 [==============================] - 5s 3ms/step - loss: 0.3767 - accuracy: 0.8661 - val_loss: 0.4025 - val_accuracy: 0.8582\n",
      "Epoch 7/30\n",
      "1700/1719 [============================>.] - ETA: 0s - loss: 0.3618 - accuracy: 0.8723\n",
      "val/train: 1.00\n",
      "1719/1719 [==============================] - 5s 3ms/step - loss: 0.3625 - accuracy: 0.8724 - val_loss: 0.3621 - val_accuracy: 0.8728\n",
      "Epoch 8/30\n",
      "1705/1719 [============================>.] - ETA: 0s - loss: 0.3508 - accuracy: 0.8769\n",
      "val/train: 1.03\n",
      "1719/1719 [==============================] - 4s 3ms/step - loss: 0.3510 - accuracy: 0.8768 - val_loss: 0.3603 - val_accuracy: 0.8726\n",
      "Epoch 9/30\n",
      "1718/1719 [============================>.] - ETA: 0s - loss: 0.3404 - accuracy: 0.8799\n",
      "val/train: 1.10\n",
      "1719/1719 [==============================] - 4s 3ms/step - loss: 0.3404 - accuracy: 0.8798 - val_loss: 0.3728 - val_accuracy: 0.8726\n",
      "Epoch 10/30\n",
      "1709/1719 [============================>.] - ETA: 0s - loss: 0.3318 - accuracy: 0.8823\n",
      "val/train: 1.03\n",
      "1719/1719 [==============================] - 5s 3ms/step - loss: 0.3318 - accuracy: 0.8822 - val_loss: 0.3432 - val_accuracy: 0.8830\n",
      "Epoch 11/30\n",
      "1712/1719 [============================>.] - ETA: 0s - loss: 0.3235 - accuracy: 0.8844\n",
      "val/train: 1.02\n",
      "1719/1719 [==============================] - 5s 3ms/step - loss: 0.3234 - accuracy: 0.8845 - val_loss: 0.3306 - val_accuracy: 0.8830\n",
      "Epoch 12/30\n",
      "1702/1719 [============================>.] - ETA: 0s - loss: 0.3150 - accuracy: 0.8886\n",
      "val/train: 1.08\n",
      "1719/1719 [==============================] - 5s 3ms/step - loss: 0.3148 - accuracy: 0.8887 - val_loss: 0.3405 - val_accuracy: 0.8818\n",
      "Epoch 13/30\n",
      "1708/1719 [============================>.] - ETA: 0s - loss: 0.3079 - accuracy: 0.8897\n",
      "val/train: 1.05\n",
      "1719/1719 [==============================] - 4s 3ms/step - loss: 0.3076 - accuracy: 0.8900 - val_loss: 0.3228 - val_accuracy: 0.8854\n",
      "Epoch 14/30\n",
      "1709/1719 [============================>.] - ETA: 0s - loss: 0.3011 - accuracy: 0.8920\n",
      "val/train: 1.08\n",
      "1719/1719 [==============================] - 5s 3ms/step - loss: 0.3012 - accuracy: 0.8920 - val_loss: 0.3264 - val_accuracy: 0.8816\n",
      "Epoch 15/30\n",
      "1719/1719 [==============================] - ETA: 0s - loss: 0.2942 - accuracy: 0.8941\n",
      "val/train: 1.14\n",
      "1719/1719 [==============================] - 4s 3ms/step - loss: 0.2942 - accuracy: 0.8941 - val_loss: 0.3352 - val_accuracy: 0.8834\n",
      "Epoch 16/30\n",
      "1709/1719 [============================>.] - ETA: 0s - loss: 0.2892 - accuracy: 0.8960\n",
      "val/train: 1.07\n",
      "1719/1719 [==============================] - 4s 3ms/step - loss: 0.2893 - accuracy: 0.8960 - val_loss: 0.3100 - val_accuracy: 0.8912\n",
      "Epoch 17/30\n",
      "1701/1719 [============================>.] - ETA: 0s - loss: 0.2825 - accuracy: 0.8982\n",
      "val/train: 1.09\n",
      "1719/1719 [==============================] - 5s 3ms/step - loss: 0.2826 - accuracy: 0.8982 - val_loss: 0.3077 - val_accuracy: 0.8904\n",
      "Epoch 18/30\n",
      "1708/1719 [============================>.] - ETA: 0s - loss: 0.2768 - accuracy: 0.9007\n",
      "val/train: 1.16\n",
      "1719/1719 [==============================] - 4s 3ms/step - loss: 0.2771 - accuracy: 0.9007 - val_loss: 0.3217 - val_accuracy: 0.8868\n",
      "Epoch 19/30\n",
      "1705/1719 [============================>.] - ETA: 0s - loss: 0.2714 - accuracy: 0.9034\n",
      "val/train: 1.15\n",
      "1719/1719 [==============================] - 5s 3ms/step - loss: 0.2713 - accuracy: 0.9034 - val_loss: 0.3108 - val_accuracy: 0.8896\n",
      "Epoch 20/30\n",
      "1715/1719 [============================>.] - ETA: 0s - loss: 0.2660 - accuracy: 0.9044\n",
      "val/train: 1.17\n",
      "1719/1719 [==============================] - 5s 3ms/step - loss: 0.2659 - accuracy: 0.9044 - val_loss: 0.3106 - val_accuracy: 0.8876\n",
      "Epoch 21/30\n",
      "1714/1719 [============================>.] - ETA: 0s - loss: 0.2616 - accuracy: 0.9066\n",
      "val/train: 1.19\n",
      "1719/1719 [==============================] - 5s 3ms/step - loss: 0.2616 - accuracy: 0.9067 - val_loss: 0.3121 - val_accuracy: 0.8878\n",
      "Epoch 22/30\n",
      "1703/1719 [============================>.] - ETA: 0s - loss: 0.2563 - accuracy: 0.9090\n",
      "val/train: 1.20\n",
      "1719/1719 [==============================] - 5s 3ms/step - loss: 0.2562 - accuracy: 0.9091 - val_loss: 0.3083 - val_accuracy: 0.8910\n",
      "Epoch 23/30\n",
      "1712/1719 [============================>.] - ETA: 0s - loss: 0.2526 - accuracy: 0.9079\n",
      "val/train: 1.24\n",
      "1719/1719 [==============================] - 4s 3ms/step - loss: 0.2528 - accuracy: 0.9079 - val_loss: 0.3128 - val_accuracy: 0.8898\n",
      "Epoch 24/30\n",
      "1719/1719 [==============================] - ETA: 0s - loss: 0.2481 - accuracy: 0.9103\n",
      "val/train: 1.20\n",
      "1719/1719 [==============================] - 5s 3ms/step - loss: 0.2481 - accuracy: 0.9103 - val_loss: 0.2987 - val_accuracy: 0.8924\n",
      "Epoch 25/30\n",
      "1704/1719 [============================>.] - ETA: 0s - loss: 0.2447 - accuracy: 0.9117\n",
      "val/train: 1.25\n",
      "1719/1719 [==============================] - 5s 3ms/step - loss: 0.2445 - accuracy: 0.9117 - val_loss: 0.3056 - val_accuracy: 0.8922\n",
      "Epoch 26/30\n",
      "1707/1719 [============================>.] - ETA: 0s - loss: 0.2402 - accuracy: 0.9129\n",
      "val/train: 1.29\n",
      "1719/1719 [==============================] - 4s 3ms/step - loss: 0.2402 - accuracy: 0.9128 - val_loss: 0.3110 - val_accuracy: 0.8928\n",
      "Epoch 27/30\n",
      "1714/1719 [============================>.] - ETA: 0s - loss: 0.2356 - accuracy: 0.9151\n",
      "val/train: 1.22\n",
      "1719/1719 [==============================] - 4s 3ms/step - loss: 0.2358 - accuracy: 0.9151 - val_loss: 0.2882 - val_accuracy: 0.8976\n",
      "Epoch 28/30\n",
      "1712/1719 [============================>.] - ETA: 0s - loss: 0.2314 - accuracy: 0.9167\n",
      "val/train: 1.27\n",
      "1719/1719 [==============================] - 5s 3ms/step - loss: 0.2313 - accuracy: 0.9168 - val_loss: 0.2946 - val_accuracy: 0.8972\n",
      "Epoch 29/30\n",
      "1704/1719 [============================>.] - ETA: 0s - loss: 0.2272 - accuracy: 0.9185\n",
      "val/train: 1.29\n",
      "1719/1719 [==============================] - 5s 3ms/step - loss: 0.2275 - accuracy: 0.9184 - val_loss: 0.2939 - val_accuracy: 0.8948\n",
      "Epoch 30/30\n",
      "1700/1719 [============================>.] - ETA: 0s - loss: 0.2242 - accuracy: 0.9182\n",
      "val/train: 1.28\n",
      "1719/1719 [==============================] - 4s 2ms/step - loss: 0.2245 - accuracy: 0.9181 - val_loss: 0.2883 - val_accuracy: 0.8964\n"
     ]
    }
   ],
   "execution_count": 23
  },
  {
   "metadata": {
    "ExecuteTime": {
     "end_time": "2025-07-25T00:41:18.830235Z",
     "start_time": "2025-07-25T00:41:18.131664Z"
    }
   },
   "cell_type": "code",
   "source": "model.evaluate(X_test, y_test)",
   "id": "7a18b31cd4de309a",
   "outputs": [
    {
     "name": "stdout",
     "output_type": "stream",
     "text": [
      "313/313 [==============================] - 1s 2ms/step - loss: 0.3278 - accuracy: 0.8856\n"
     ]
    },
    {
     "data": {
      "text/plain": [
       "[0.3278040587902069, 0.8855999708175659]"
      ]
     },
     "execution_count": 24,
     "metadata": {},
     "output_type": "execute_result"
    }
   ],
   "execution_count": 24
  },
  {
   "metadata": {},
   "cell_type": "markdown",
   "source": "### Visualization Using TensorBoard",
   "id": "44fcb24e1bc9bf52"
  },
  {
   "metadata": {},
   "cell_type": "markdown",
   "source": "TensorBoard is a great interactive visualization tool that you can use to view the learning curves during training, compare learning curves between multiple runs, visualize the computation graph, analyze training statistics, view images generated by your model, visualize complex multidimensional data projected down to 3D and automatically clustered for you, and more!",
   "id": "951a778ef23c8d91"
  },
  {
   "metadata": {
    "ExecuteTime": {
     "end_time": "2025-07-25T00:52:17.107909Z",
     "start_time": "2025-07-25T00:52:17.104098Z"
    }
   },
   "cell_type": "code",
   "source": [
    "root_logdir = os.path.join(os.curdir, logs_dir)\n",
    "\n",
    "def get_run_logdir():\n",
    "    import time\n",
    "    run_id = time.strftime(\"run_%Y_%m_%d-%H_%M_%S\")\n",
    "    return os.path.join(root_logdir, run_id)"
   ],
   "id": "c1b2d3659b630781",
   "outputs": [],
   "execution_count": 30
  },
  {
   "metadata": {
    "ExecuteTime": {
     "end_time": "2025-07-25T00:52:58.022806Z",
     "start_time": "2025-07-25T00:52:58.018650Z"
    }
   },
   "cell_type": "code",
   "source": "run_logdir = get_run_logdir()",
   "id": "a9df47df1c56f3a",
   "outputs": [],
   "execution_count": 31
  },
  {
   "metadata": {},
   "cell_type": "markdown",
   "source": "Next, the good news is that Keras provides a nice TensorBoard callback",
   "id": "6946611d311b67f5"
  },
  {
   "metadata": {
    "ExecuteTime": {
     "end_time": "2025-07-25T00:53:04.122027Z",
     "start_time": "2025-07-25T00:53:04.107216Z"
    }
   },
   "cell_type": "code",
   "source": "tensorboard_cb = keras.callbacks.TensorBoard(run_logdir)",
   "id": "f42255405238d64a",
   "outputs": [],
   "execution_count": 32
  },
  {
   "metadata": {
    "ExecuteTime": {
     "end_time": "2025-07-25T00:56:57.371886Z",
     "start_time": "2025-07-25T00:54:33.400396Z"
    }
   },
   "cell_type": "code",
   "source": "func_history = func_model.fit(X_train, y_train, epochs=30, validation_data=(X_valid, y_valid), callbacks=[tensorboard_cb])",
   "id": "27b5196c83d08c3a",
   "outputs": [
    {
     "name": "stdout",
     "output_type": "stream",
     "text": [
      "Epoch 1/30\n",
      "1719/1719 [==============================] - 5s 3ms/step - loss: 0.2203 - accuracy: 0.9206 - val_loss: 0.3121 - val_accuracy: 0.8888\n",
      "Epoch 2/30\n",
      "1719/1719 [==============================] - 5s 3ms/step - loss: 0.2170 - accuracy: 0.9215 - val_loss: 0.3049 - val_accuracy: 0.8918\n",
      "Epoch 3/30\n",
      "1719/1719 [==============================] - 5s 3ms/step - loss: 0.2136 - accuracy: 0.9227 - val_loss: 0.2983 - val_accuracy: 0.8928\n",
      "Epoch 4/30\n",
      "1719/1719 [==============================] - 5s 3ms/step - loss: 0.2102 - accuracy: 0.9248 - val_loss: 0.2933 - val_accuracy: 0.8960\n",
      "Epoch 5/30\n",
      "1719/1719 [==============================] - 5s 3ms/step - loss: 0.2067 - accuracy: 0.9255 - val_loss: 0.2847 - val_accuracy: 0.8980\n",
      "Epoch 6/30\n",
      "1719/1719 [==============================] - 5s 3ms/step - loss: 0.2032 - accuracy: 0.9272 - val_loss: 0.3147 - val_accuracy: 0.8848\n",
      "Epoch 7/30\n",
      "1719/1719 [==============================] - 5s 3ms/step - loss: 0.2000 - accuracy: 0.9278 - val_loss: 0.3160 - val_accuracy: 0.8878\n",
      "Epoch 8/30\n",
      "1719/1719 [==============================] - 5s 3ms/step - loss: 0.1965 - accuracy: 0.9302 - val_loss: 0.2989 - val_accuracy: 0.8936\n",
      "Epoch 9/30\n",
      "1719/1719 [==============================] - 5s 3ms/step - loss: 0.1940 - accuracy: 0.9313 - val_loss: 0.2919 - val_accuracy: 0.8986\n",
      "Epoch 10/30\n",
      "1719/1719 [==============================] - 5s 3ms/step - loss: 0.1910 - accuracy: 0.9313 - val_loss: 0.2905 - val_accuracy: 0.9002\n",
      "Epoch 11/30\n",
      "1719/1719 [==============================] - 5s 3ms/step - loss: 0.1887 - accuracy: 0.9325 - val_loss: 0.2847 - val_accuracy: 0.8976\n",
      "Epoch 12/30\n",
      "1719/1719 [==============================] - 5s 3ms/step - loss: 0.1856 - accuracy: 0.9333 - val_loss: 0.2899 - val_accuracy: 0.8962\n",
      "Epoch 13/30\n",
      "1719/1719 [==============================] - 5s 3ms/step - loss: 0.1814 - accuracy: 0.9342 - val_loss: 0.2860 - val_accuracy: 0.9006\n",
      "Epoch 14/30\n",
      "1719/1719 [==============================] - 5s 3ms/step - loss: 0.1799 - accuracy: 0.9358 - val_loss: 0.3037 - val_accuracy: 0.8958\n",
      "Epoch 15/30\n",
      "1719/1719 [==============================] - 5s 3ms/step - loss: 0.1768 - accuracy: 0.9372 - val_loss: 0.3037 - val_accuracy: 0.8930\n",
      "Epoch 16/30\n",
      "1719/1719 [==============================] - 5s 3ms/step - loss: 0.1738 - accuracy: 0.9376 - val_loss: 0.2937 - val_accuracy: 0.8986\n",
      "Epoch 17/30\n",
      "1719/1719 [==============================] - 5s 3ms/step - loss: 0.1706 - accuracy: 0.9396 - val_loss: 0.3031 - val_accuracy: 0.8984\n",
      "Epoch 18/30\n",
      "1719/1719 [==============================] - 5s 3ms/step - loss: 0.1686 - accuracy: 0.9401 - val_loss: 0.3018 - val_accuracy: 0.8940\n",
      "Epoch 19/30\n",
      "1719/1719 [==============================] - 5s 3ms/step - loss: 0.1655 - accuracy: 0.9404 - val_loss: 0.2967 - val_accuracy: 0.8920\n",
      "Epoch 20/30\n",
      "1719/1719 [==============================] - 5s 3ms/step - loss: 0.1635 - accuracy: 0.9414 - val_loss: 0.3005 - val_accuracy: 0.8956\n",
      "Epoch 21/30\n",
      "1719/1719 [==============================] - 5s 3ms/step - loss: 0.1599 - accuracy: 0.9428 - val_loss: 0.2956 - val_accuracy: 0.8988\n",
      "Epoch 22/30\n",
      "1719/1719 [==============================] - 5s 3ms/step - loss: 0.1577 - accuracy: 0.9444 - val_loss: 0.2855 - val_accuracy: 0.8990\n",
      "Epoch 23/30\n",
      "1719/1719 [==============================] - 5s 3ms/step - loss: 0.1546 - accuracy: 0.9441 - val_loss: 0.3060 - val_accuracy: 0.8940\n",
      "Epoch 24/30\n",
      "1719/1719 [==============================] - 5s 3ms/step - loss: 0.1528 - accuracy: 0.9463 - val_loss: 0.3000 - val_accuracy: 0.8992\n",
      "Epoch 25/30\n",
      "1719/1719 [==============================] - 5s 3ms/step - loss: 0.1501 - accuracy: 0.9464 - val_loss: 0.3034 - val_accuracy: 0.8990\n",
      "Epoch 26/30\n",
      "1719/1719 [==============================] - 5s 3ms/step - loss: 0.1488 - accuracy: 0.9476 - val_loss: 0.3024 - val_accuracy: 0.8984\n",
      "Epoch 27/30\n",
      "1719/1719 [==============================] - 5s 3ms/step - loss: 0.1455 - accuracy: 0.9477 - val_loss: 0.2901 - val_accuracy: 0.9008\n",
      "Epoch 28/30\n",
      "1719/1719 [==============================] - 5s 3ms/step - loss: 0.1429 - accuracy: 0.9503 - val_loss: 0.3176 - val_accuracy: 0.8912\n",
      "Epoch 29/30\n",
      "1719/1719 [==============================] - 5s 3ms/step - loss: 0.1410 - accuracy: 0.9501 - val_loss: 0.3181 - val_accuracy: 0.8948\n",
      "Epoch 30/30\n",
      "1719/1719 [==============================] - 5s 3ms/step - loss: 0.1386 - accuracy: 0.9505 - val_loss: 0.3103 - val_accuracy: 0.8956\n"
     ]
    }
   ],
   "execution_count": 33
  }
 ],
 "metadata": {
  "kernelspec": {
   "display_name": "Python (venv)",
   "language": "python",
   "name": "tf-keras-labs"
  },
  "language_info": {
   "codemirror_mode": {
    "name": "ipython",
    "version": 3
   },
   "file_extension": ".py",
   "mimetype": "text/x-python",
   "name": "python",
   "nbconvert_exporter": "python",
   "pygments_lexer": "ipython3",
   "version": "3.12.7"
  }
 },
 "nbformat": 4,
 "nbformat_minor": 5
}
