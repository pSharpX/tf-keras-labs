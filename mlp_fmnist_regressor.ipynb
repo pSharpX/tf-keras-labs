{
 "cells": [
  {
   "metadata": {},
   "cell_type": "markdown",
   "source": "## Building a Regression MLP Using the Sequential API",
   "id": "e98706795f5707bc"
  },
  {
   "cell_type": "code",
   "id": "initial_id",
   "metadata": {
    "collapsed": true,
    "ExecuteTime": {
     "end_time": "2025-07-24T16:23:54.544675Z",
     "start_time": "2025-07-24T16:23:18.629570Z"
    }
   },
   "source": [
    "from tkinter.font import names\n",
    "\n",
    "import sklearn\n",
    "import keras\n",
    "import tensorflow as tf\n",
    "import pandas as pd\n",
    "import matplotlib.pyplot as plt\n",
    "import warnings\n",
    "from sklearn.datasets import fetch_california_housing\n",
    "from sklearn.model_selection import train_test_split\n",
    "from sklearn.preprocessing import StandardScaler\n",
    "\n",
    "warnings.filterwarnings(\"ignore\")\n",
    "\n",
    "print(f\"Scikit-learn: {sklearn.__version__}\")\n",
    "print(f\"Tensorflow: {tf.__version__}\")\n",
    "print(f\"Keras: {keras.__version__}\")"
   ],
   "outputs": [
    {
     "name": "stdout",
     "output_type": "stream",
     "text": [
      "WARNING:tensorflow:From C:\\Users\\DELL\\AppData\\Roaming\\Python\\Python311\\site-packages\\keras\\src\\losses.py:2976: The name tf.losses.sparse_softmax_cross_entropy is deprecated. Please use tf.compat.v1.losses.sparse_softmax_cross_entropy instead.\n",
      "\n",
      "Scikit-learn: 1.3.0\n",
      "Tensorflow: 2.15.0\n",
      "Keras: 2.15.0\n"
     ]
    }
   ],
   "execution_count": 1
  },
  {
   "metadata": {
    "ExecuteTime": {
     "end_time": "2025-07-24T16:23:58.876710Z",
     "start_time": "2025-07-24T16:23:58.850519Z"
    }
   },
   "cell_type": "code",
   "source": [
    "housing = fetch_california_housing()\n",
    "housing.data.shape"
   ],
   "id": "13a8a47b4321da42",
   "outputs": [
    {
     "data": {
      "text/plain": [
       "(20640, 8)"
      ]
     },
     "execution_count": 2,
     "metadata": {},
     "output_type": "execute_result"
    }
   ],
   "execution_count": 2
  },
  {
   "metadata": {
    "ExecuteTime": {
     "end_time": "2025-07-24T16:24:01.677185Z",
     "start_time": "2025-07-24T16:24:01.670646Z"
    }
   },
   "cell_type": "code",
   "source": "housing.target",
   "id": "e830b4719d63ca56",
   "outputs": [
    {
     "data": {
      "text/plain": [
       "array([4.526, 3.585, 3.521, ..., 0.923, 0.847, 0.894])"
      ]
     },
     "execution_count": 3,
     "metadata": {},
     "output_type": "execute_result"
    }
   ],
   "execution_count": 3
  },
  {
   "metadata": {
    "ExecuteTime": {
     "end_time": "2025-07-24T16:24:03.906177Z",
     "start_time": "2025-07-24T16:24:03.875027Z"
    }
   },
   "cell_type": "code",
   "source": "pd.DataFrame(housing.data, columns=housing.feature_names)",
   "id": "6bca1f92e7ab8e78",
   "outputs": [
    {
     "data": {
      "text/plain": [
       "       MedInc  HouseAge  AveRooms  AveBedrms  Population  AveOccup  Latitude  \\\n",
       "0      8.3252      41.0  6.984127   1.023810       322.0  2.555556     37.88   \n",
       "1      8.3014      21.0  6.238137   0.971880      2401.0  2.109842     37.86   \n",
       "2      7.2574      52.0  8.288136   1.073446       496.0  2.802260     37.85   \n",
       "3      5.6431      52.0  5.817352   1.073059       558.0  2.547945     37.85   \n",
       "4      3.8462      52.0  6.281853   1.081081       565.0  2.181467     37.85   \n",
       "...       ...       ...       ...        ...         ...       ...       ...   \n",
       "20635  1.5603      25.0  5.045455   1.133333       845.0  2.560606     39.48   \n",
       "20636  2.5568      18.0  6.114035   1.315789       356.0  3.122807     39.49   \n",
       "20637  1.7000      17.0  5.205543   1.120092      1007.0  2.325635     39.43   \n",
       "20638  1.8672      18.0  5.329513   1.171920       741.0  2.123209     39.43   \n",
       "20639  2.3886      16.0  5.254717   1.162264      1387.0  2.616981     39.37   \n",
       "\n",
       "       Longitude  \n",
       "0        -122.23  \n",
       "1        -122.22  \n",
       "2        -122.24  \n",
       "3        -122.25  \n",
       "4        -122.25  \n",
       "...          ...  \n",
       "20635    -121.09  \n",
       "20636    -121.21  \n",
       "20637    -121.22  \n",
       "20638    -121.32  \n",
       "20639    -121.24  \n",
       "\n",
       "[20640 rows x 8 columns]"
      ],
      "text/html": [
       "<div>\n",
       "<style scoped>\n",
       "    .dataframe tbody tr th:only-of-type {\n",
       "        vertical-align: middle;\n",
       "    }\n",
       "\n",
       "    .dataframe tbody tr th {\n",
       "        vertical-align: top;\n",
       "    }\n",
       "\n",
       "    .dataframe thead th {\n",
       "        text-align: right;\n",
       "    }\n",
       "</style>\n",
       "<table border=\"1\" class=\"dataframe\">\n",
       "  <thead>\n",
       "    <tr style=\"text-align: right;\">\n",
       "      <th></th>\n",
       "      <th>MedInc</th>\n",
       "      <th>HouseAge</th>\n",
       "      <th>AveRooms</th>\n",
       "      <th>AveBedrms</th>\n",
       "      <th>Population</th>\n",
       "      <th>AveOccup</th>\n",
       "      <th>Latitude</th>\n",
       "      <th>Longitude</th>\n",
       "    </tr>\n",
       "  </thead>\n",
       "  <tbody>\n",
       "    <tr>\n",
       "      <th>0</th>\n",
       "      <td>8.3252</td>\n",
       "      <td>41.0</td>\n",
       "      <td>6.984127</td>\n",
       "      <td>1.023810</td>\n",
       "      <td>322.0</td>\n",
       "      <td>2.555556</td>\n",
       "      <td>37.88</td>\n",
       "      <td>-122.23</td>\n",
       "    </tr>\n",
       "    <tr>\n",
       "      <th>1</th>\n",
       "      <td>8.3014</td>\n",
       "      <td>21.0</td>\n",
       "      <td>6.238137</td>\n",
       "      <td>0.971880</td>\n",
       "      <td>2401.0</td>\n",
       "      <td>2.109842</td>\n",
       "      <td>37.86</td>\n",
       "      <td>-122.22</td>\n",
       "    </tr>\n",
       "    <tr>\n",
       "      <th>2</th>\n",
       "      <td>7.2574</td>\n",
       "      <td>52.0</td>\n",
       "      <td>8.288136</td>\n",
       "      <td>1.073446</td>\n",
       "      <td>496.0</td>\n",
       "      <td>2.802260</td>\n",
       "      <td>37.85</td>\n",
       "      <td>-122.24</td>\n",
       "    </tr>\n",
       "    <tr>\n",
       "      <th>3</th>\n",
       "      <td>5.6431</td>\n",
       "      <td>52.0</td>\n",
       "      <td>5.817352</td>\n",
       "      <td>1.073059</td>\n",
       "      <td>558.0</td>\n",
       "      <td>2.547945</td>\n",
       "      <td>37.85</td>\n",
       "      <td>-122.25</td>\n",
       "    </tr>\n",
       "    <tr>\n",
       "      <th>4</th>\n",
       "      <td>3.8462</td>\n",
       "      <td>52.0</td>\n",
       "      <td>6.281853</td>\n",
       "      <td>1.081081</td>\n",
       "      <td>565.0</td>\n",
       "      <td>2.181467</td>\n",
       "      <td>37.85</td>\n",
       "      <td>-122.25</td>\n",
       "    </tr>\n",
       "    <tr>\n",
       "      <th>...</th>\n",
       "      <td>...</td>\n",
       "      <td>...</td>\n",
       "      <td>...</td>\n",
       "      <td>...</td>\n",
       "      <td>...</td>\n",
       "      <td>...</td>\n",
       "      <td>...</td>\n",
       "      <td>...</td>\n",
       "    </tr>\n",
       "    <tr>\n",
       "      <th>20635</th>\n",
       "      <td>1.5603</td>\n",
       "      <td>25.0</td>\n",
       "      <td>5.045455</td>\n",
       "      <td>1.133333</td>\n",
       "      <td>845.0</td>\n",
       "      <td>2.560606</td>\n",
       "      <td>39.48</td>\n",
       "      <td>-121.09</td>\n",
       "    </tr>\n",
       "    <tr>\n",
       "      <th>20636</th>\n",
       "      <td>2.5568</td>\n",
       "      <td>18.0</td>\n",
       "      <td>6.114035</td>\n",
       "      <td>1.315789</td>\n",
       "      <td>356.0</td>\n",
       "      <td>3.122807</td>\n",
       "      <td>39.49</td>\n",
       "      <td>-121.21</td>\n",
       "    </tr>\n",
       "    <tr>\n",
       "      <th>20637</th>\n",
       "      <td>1.7000</td>\n",
       "      <td>17.0</td>\n",
       "      <td>5.205543</td>\n",
       "      <td>1.120092</td>\n",
       "      <td>1007.0</td>\n",
       "      <td>2.325635</td>\n",
       "      <td>39.43</td>\n",
       "      <td>-121.22</td>\n",
       "    </tr>\n",
       "    <tr>\n",
       "      <th>20638</th>\n",
       "      <td>1.8672</td>\n",
       "      <td>18.0</td>\n",
       "      <td>5.329513</td>\n",
       "      <td>1.171920</td>\n",
       "      <td>741.0</td>\n",
       "      <td>2.123209</td>\n",
       "      <td>39.43</td>\n",
       "      <td>-121.32</td>\n",
       "    </tr>\n",
       "    <tr>\n",
       "      <th>20639</th>\n",
       "      <td>2.3886</td>\n",
       "      <td>16.0</td>\n",
       "      <td>5.254717</td>\n",
       "      <td>1.162264</td>\n",
       "      <td>1387.0</td>\n",
       "      <td>2.616981</td>\n",
       "      <td>39.37</td>\n",
       "      <td>-121.24</td>\n",
       "    </tr>\n",
       "  </tbody>\n",
       "</table>\n",
       "<p>20640 rows × 8 columns</p>\n",
       "</div>"
      ]
     },
     "execution_count": 4,
     "metadata": {},
     "output_type": "execute_result"
    }
   ],
   "execution_count": 4
  },
  {
   "metadata": {
    "ExecuteTime": {
     "end_time": "2025-07-24T16:24:08.361971Z",
     "start_time": "2025-07-24T16:24:08.352253Z"
    }
   },
   "cell_type": "code",
   "source": [
    "X_train_full, X_test, y_train_full, y_test = train_test_split(housing.data, housing.target, random_state=42)\n",
    "print(X_train_full.shape)\n",
    "print(X_test.shape)"
   ],
   "id": "4e03c81e4b897f6a",
   "outputs": [
    {
     "name": "stdout",
     "output_type": "stream",
     "text": [
      "(15480, 8)\n",
      "(5160, 8)\n"
     ]
    }
   ],
   "execution_count": 5
  },
  {
   "metadata": {
    "ExecuteTime": {
     "end_time": "2025-07-24T16:24:10.229352Z",
     "start_time": "2025-07-24T16:24:10.221884Z"
    }
   },
   "cell_type": "code",
   "source": [
    "X_train, X_valid, y_train, y_valid = train_test_split(X_train_full, y_train_full, random_state=42)\n",
    "print(X_train.shape)\n",
    "print(X_valid.shape)"
   ],
   "id": "5a3e2cc285e73494",
   "outputs": [
    {
     "name": "stdout",
     "output_type": "stream",
     "text": [
      "(11610, 8)\n",
      "(3870, 8)\n"
     ]
    }
   ],
   "execution_count": 6
  },
  {
   "metadata": {
    "ExecuteTime": {
     "end_time": "2025-07-24T01:51:45.054396Z",
     "start_time": "2025-07-24T01:51:44.074033Z"
    }
   },
   "cell_type": "code",
   "source": [
    "#scaler = StandardScaler()\n",
    "#X_train_scaled = scaler.fit_transform(X_train)\n",
    "#X_valid_scaled = scaler.transform(X_valid)\n",
    "#X_test_scaled = scaler.transform(X_test)\n",
    "\n",
    "norm_layer = keras.layers.Normalization(input_shape=X_train.shape[1:])\n",
    "norm_layer.adapt(X_train)"
   ],
   "id": "6e0805e29711aa2e",
   "outputs": [
    {
     "name": "stdout",
     "output_type": "stream",
     "text": [
      "WARNING:tensorflow:From C:\\Users\\DELL\\AppData\\Roaming\\Python\\Python311\\site-packages\\keras\\src\\backend.py:873: The name tf.get_default_graph is deprecated. Please use tf.compat.v1.get_default_graph instead.\n",
      "\n"
     ]
    }
   ],
   "execution_count": 7
  },
  {
   "metadata": {},
   "cell_type": "markdown",
   "source": "### Creating the Model Using the Sequential API",
   "id": "eb21a56d876800bf"
  },
  {
   "metadata": {},
   "cell_type": "markdown",
   "source": "Building, training, evaluating and using a regression MLP using the Sequential API to make predictions is quite similar to what we did for classification. The main differences are the fact that the output layer has a single neuron (since we only want to predict a single value) and uses no activation function, and the loss function is the mean squared error.",
   "id": "f0c19e49c20a5c8"
  },
  {
   "metadata": {
    "ExecuteTime": {
     "end_time": "2025-07-24T01:51:47.697153Z",
     "start_time": "2025-07-24T01:51:47.593576Z"
    }
   },
   "cell_type": "code",
   "source": [
    "model = keras.models.Sequential([\n",
    "    norm_layer,\n",
    "    keras.layers.Dense(50, activation=\"relu\"),\n",
    "    keras.layers.Dense(50, activation=\"relu\"),\n",
    "    keras.layers.Dense(50, activation=\"relu\"),\n",
    "    keras.layers.Dense(1),\n",
    "])\n",
    "model.summary()"
   ],
   "id": "d2e7b86ec8edcf7b",
   "outputs": [
    {
     "name": "stdout",
     "output_type": "stream",
     "text": [
      "Model: \"sequential\"\n",
      "_________________________________________________________________\n",
      " Layer (type)                Output Shape              Param #   \n",
      "=================================================================\n",
      " normalization (Normalizati  (None, 8)                 17        \n",
      " on)                                                             \n",
      "                                                                 \n",
      " dense (Dense)               (None, 50)                450       \n",
      "                                                                 \n",
      " dense_1 (Dense)             (None, 50)                2550      \n",
      "                                                                 \n",
      " dense_2 (Dense)             (None, 50)                2550      \n",
      "                                                                 \n",
      " dense_3 (Dense)             (None, 1)                 51        \n",
      "                                                                 \n",
      "=================================================================\n",
      "Total params: 5618 (21.95 KB)\n",
      "Trainable params: 5601 (21.88 KB)\n",
      "Non-trainable params: 17 (72.00 Byte)\n",
      "_________________________________________________________________\n"
     ]
    }
   ],
   "execution_count": 8
  },
  {
   "metadata": {},
   "cell_type": "markdown",
   "source": "Another way to display the model's architecture",
   "id": "addc54cdaf6b03ad"
  },
  {
   "metadata": {
    "ExecuteTime": {
     "end_time": "2025-07-24T01:52:25.397931Z",
     "start_time": "2025-07-24T01:52:24.406299Z"
    }
   },
   "cell_type": "code",
   "source": "keras.utils.plot_model(model, \"mlp_fmnist_regressor.png\", show_shapes=True)",
   "id": "b2ae4570cba7989d",
   "outputs": [
    {
     "data": {
      "image/png": "[encoded data removed]",
      "text/plain": [
       "<IPython.core.display.Image object>"
      ]
     },
     "execution_count": 9,
     "metadata": {},
     "output_type": "execute_result"
    }
   ],
   "execution_count": 9
  },
  {
   "metadata": {},
   "cell_type": "markdown",
   "source": " ### Compiling the Model",
   "id": "acc17df21c86c1e8"
  },
  {
   "metadata": {
    "ExecuteTime": {
     "end_time": "2025-07-24T01:53:53.465016Z",
     "start_time": "2025-07-24T01:53:53.383682Z"
    }
   },
   "cell_type": "code",
   "source": "model.compile(loss=\"mse\", optimizer=\"sgd\", metrics=['RootMeanSquaredError'])",
   "id": "e6f9c0642db5af14",
   "outputs": [
    {
     "name": "stdout",
     "output_type": "stream",
     "text": [
      "WARNING:tensorflow:From C:\\Users\\DELL\\AppData\\Roaming\\Python\\Python311\\site-packages\\keras\\src\\optimizers\\__init__.py:309: The name tf.train.Optimizer is deprecated. Please use tf.compat.v1.train.Optimizer instead.\n",
      "\n"
     ]
    }
   ],
   "execution_count": 10
  },
  {
   "metadata": {},
   "cell_type": "markdown",
   "source": "###  Training and Evaluating the Model",
   "id": "e0e6c632e26627e1"
  },
  {
   "metadata": {
    "ExecuteTime": {
     "end_time": "2025-07-24T01:54:12.121893Z",
     "start_time": "2025-07-24T01:53:55.835716Z"
    }
   },
   "cell_type": "code",
   "source": "history = model.fit(X_train, y_train, epochs=20, validation_data=(X_valid, y_valid))",
   "id": "9a1c27b2526300e1",
   "outputs": [
    {
     "name": "stdout",
     "output_type": "stream",
     "text": [
      "Epoch 1/20\n",
      "WARNING:tensorflow:From C:\\Users\\DELL\\AppData\\Roaming\\Python\\Python311\\site-packages\\keras\\src\\utils\\tf_utils.py:492: The name tf.ragged.RaggedTensorValue is deprecated. Please use tf.compat.v1.ragged.RaggedTensorValue instead.\n",
      "\n",
      "WARNING:tensorflow:From C:\\Users\\DELL\\AppData\\Roaming\\Python\\Python311\\site-packages\\keras\\src\\engine\\base_layer_utils.py:384: The name tf.executing_eagerly_outside_functions is deprecated. Please use tf.compat.v1.executing_eagerly_outside_functions instead.\n",
      "\n",
      "363/363 [==============================] - 2s 3ms/step - loss: 1.0231 - root_mean_squared_error: 1.0115 - val_loss: 0.4638 - val_root_mean_squared_error: 0.6811\n",
      "Epoch 2/20\n",
      "363/363 [==============================] - 1s 2ms/step - loss: 0.4412 - root_mean_squared_error: 0.6642 - val_loss: 0.4883 - val_root_mean_squared_error: 0.6988\n",
      "Epoch 3/20\n",
      "363/363 [==============================] - 1s 2ms/step - loss: 0.3911 - root_mean_squared_error: 0.6254 - val_loss: 0.3630 - val_root_mean_squared_error: 0.6025\n",
      "Epoch 4/20\n",
      "363/363 [==============================] - 1s 2ms/step - loss: 0.3744 - root_mean_squared_error: 0.6119 - val_loss: 0.8253 - val_root_mean_squared_error: 0.9084\n",
      "Epoch 5/20\n",
      "363/363 [==============================] - 1s 3ms/step - loss: 0.3816 - root_mean_squared_error: 0.6177 - val_loss: 4.0498 - val_root_mean_squared_error: 2.0124\n",
      "Epoch 6/20\n",
      "363/363 [==============================] - 1s 2ms/step - loss: 0.3864 - root_mean_squared_error: 0.6216 - val_loss: 4.0969 - val_root_mean_squared_error: 2.0241\n",
      "Epoch 7/20\n",
      "363/363 [==============================] - 1s 2ms/step - loss: 0.3752 - root_mean_squared_error: 0.6126 - val_loss: 0.7907 - val_root_mean_squared_error: 0.8892\n",
      "Epoch 8/20\n",
      "363/363 [==============================] - 1s 2ms/step - loss: 0.3469 - root_mean_squared_error: 0.5890 - val_loss: 0.8268 - val_root_mean_squared_error: 0.9093\n",
      "Epoch 9/20\n",
      "363/363 [==============================] - 1s 2ms/step - loss: 0.3372 - root_mean_squared_error: 0.5807 - val_loss: 0.3802 - val_root_mean_squared_error: 0.6166\n",
      "Epoch 10/20\n",
      "363/363 [==============================] - 1s 2ms/step - loss: 0.3278 - root_mean_squared_error: 0.5725 - val_loss: 0.3437 - val_root_mean_squared_error: 0.5863\n",
      "Epoch 11/20\n",
      "363/363 [==============================] - 1s 2ms/step - loss: 0.3236 - root_mean_squared_error: 0.5689 - val_loss: 0.3328 - val_root_mean_squared_error: 0.5769\n",
      "Epoch 12/20\n",
      "363/363 [==============================] - 1s 2ms/step - loss: 0.3177 - root_mean_squared_error: 0.5637 - val_loss: 0.3256 - val_root_mean_squared_error: 0.5706\n",
      "Epoch 13/20\n",
      "363/363 [==============================] - 1s 2ms/step - loss: 0.3133 - root_mean_squared_error: 0.5597 - val_loss: 0.3406 - val_root_mean_squared_error: 0.5836\n",
      "Epoch 14/20\n",
      "363/363 [==============================] - 1s 2ms/step - loss: 0.3111 - root_mean_squared_error: 0.5577 - val_loss: 0.3290 - val_root_mean_squared_error: 0.5736\n",
      "Epoch 15/20\n",
      "363/363 [==============================] - 1s 2ms/step - loss: 0.3083 - root_mean_squared_error: 0.5553 - val_loss: 0.3016 - val_root_mean_squared_error: 0.5492\n",
      "Epoch 16/20\n",
      "363/363 [==============================] - 1s 2ms/step - loss: 0.3060 - root_mean_squared_error: 0.5532 - val_loss: 0.3195 - val_root_mean_squared_error: 0.5653\n",
      "Epoch 17/20\n",
      "363/363 [==============================] - 1s 2ms/step - loss: 0.3030 - root_mean_squared_error: 0.5504 - val_loss: 0.2957 - val_root_mean_squared_error: 0.5437\n",
      "Epoch 18/20\n",
      "363/363 [==============================] - 1s 2ms/step - loss: 0.2992 - root_mean_squared_error: 0.5470 - val_loss: 0.3018 - val_root_mean_squared_error: 0.5493\n",
      "Epoch 19/20\n",
      "363/363 [==============================] - 1s 2ms/step - loss: 0.2972 - root_mean_squared_error: 0.5451 - val_loss: 0.2993 - val_root_mean_squared_error: 0.5471\n",
      "Epoch 20/20\n",
      "363/363 [==============================] - 1s 2ms/step - loss: 0.2944 - root_mean_squared_error: 0.5426 - val_loss: 0.2983 - val_root_mean_squared_error: 0.5462\n"
     ]
    }
   ],
   "execution_count": 11
  },
  {
   "metadata": {
    "ExecuteTime": {
     "end_time": "2025-07-24T01:54:22.777780Z",
     "start_time": "2025-07-24T01:54:22.479927Z"
    }
   },
   "cell_type": "code",
   "source": "model.evaluate(X_test, y_test)",
   "id": "9cb1e7a58ed04565",
   "outputs": [
    {
     "name": "stdout",
     "output_type": "stream",
     "text": [
      "162/162 [==============================] - 0s 1ms/step - loss: 0.3049 - root_mean_squared_error: 0.5521\n"
     ]
    },
    {
     "data": {
      "text/plain": [
       "[0.3048500120639801, 0.552132248878479]"
      ]
     },
     "execution_count": 12,
     "metadata": {},
     "output_type": "execute_result"
    }
   ],
   "execution_count": 12
  },
  {
   "metadata": {
    "ExecuteTime": {
     "end_time": "2025-07-24T01:54:28.319120Z",
     "start_time": "2025-07-24T01:54:28.108014Z"
    }
   },
   "cell_type": "code",
   "source": [
    "pd.DataFrame(history.history).plot(figsize=(8, 5))\n",
    "plt.grid(True)\n",
    "plt.gca().set_ylim(0, 1)\n",
    "plt.show()"
   ],
   "id": "63cd4dfb370c08cc",
   "outputs": [
    {
     "data": {
      "text/plain": [
       "<Figure size 800x500 with 1 Axes>"
      ],
      "image/png": "[encoded data removed]"
     },
     "metadata": {},
     "output_type": "display_data"
    }
   ],
   "execution_count": 13
  },
  {
   "metadata": {},
   "cell_type": "markdown",
   "source": "### Using the Model to Make Predictions",
   "id": "651e105418e4f5a0"
  },
  {
   "metadata": {
    "ExecuteTime": {
     "end_time": "2025-07-24T01:54:40.882570Z",
     "start_time": "2025-07-24T01:54:40.711638Z"
    }
   },
   "cell_type": "code",
   "source": [
    "X_new = X_test[:3]\n",
    "y_pred = model.predict(X_new)\n",
    "print(y_pred)\n",
    "print(y_test[:3])"
   ],
   "id": "bed1f7bc814d8c84",
   "outputs": [
    {
     "name": "stdout",
     "output_type": "stream",
     "text": [
      "1/1 [==============================] - 0s 109ms/step\n",
      "[[0.6609118]\n",
      " [1.1852217]\n",
      " [4.7412186]]\n",
      "[0.477   0.458   5.00001]\n"
     ]
    }
   ],
   "execution_count": 14
  },
  {
   "metadata": {},
   "cell_type": "markdown",
   "source": "## Building a Regression MLP Using the Functional API",
   "id": "83dbc830bf7fe503"
  },
  {
   "metadata": {},
   "cell_type": "markdown",
   "source": "Wide & Deep neural network. It connects all or part of the inputs directly to the output layer, as shown in Figure 10-13. This architecture makes it possible for the neural network to learn both deep patterns (using the deep path) and simple rules (through the short path). In contrast, a regular MLP forces all the data to flow through the full stack of layers, thus simple patterns in the data may end up being distorted by this sequence of transformations",
   "id": "431984600ac3d30c"
  },
  {
   "metadata": {},
   "cell_type": "markdown",
   "source": "### Creating the Model Using the Functional API",
   "id": "6979d9f2e4c1d3a2"
  },
  {
   "metadata": {
    "ExecuteTime": {
     "end_time": "2025-07-24T02:12:19.681053Z",
     "start_time": "2025-07-24T02:12:19.607002Z"
    }
   },
   "cell_type": "code",
   "source": [
    "input = keras.layers.Input(shape=X_train.shape[1:])\n",
    "norm_input = norm_layer(input)\n",
    "hidden1 = keras.layers.Dense(50, activation=\"relu\")(norm_input)\n",
    "hidden2 = keras.layers.Dense(50, activation=\"relu\")(hidden1)\n",
    "hidden3 = keras.layers.Dense(50, activation=\"relu\")(hidden2)\n",
    "#concat = keras.layers.concatenate([norm_input, hidden3])\n",
    "concat = keras.layers.concatenate([hidden3])\n",
    "output = keras.layers.Dense(1)(concat)\n",
    "\n",
    "func_model = keras.models.Model(inputs=[input], outputs=[output])\n",
    "func_model.summary()"
   ],
   "id": "e5b3c82d34ce4010",
   "outputs": [
    {
     "name": "stdout",
     "output_type": "stream",
     "text": [
      "Model: \"model_4\"\n",
      "_________________________________________________________________\n",
      " Layer (type)                Output Shape              Param #   \n",
      "=================================================================\n",
      " input_9 (InputLayer)        [(None, 8)]               0         \n",
      "                                                                 \n",
      " normalization (Normalizati  (None, 8)                 17        \n",
      " on)                                                             \n",
      "                                                                 \n",
      " dense_34 (Dense)            (None, 50)                450       \n",
      "                                                                 \n",
      " dense_35 (Dense)            (None, 50)                2550      \n",
      "                                                                 \n",
      " dense_36 (Dense)            (None, 50)                2550      \n",
      "                                                                 \n",
      " concatenate_6 (Concatenate  (None, 50)                0         \n",
      " )                                                               \n",
      "                                                                 \n",
      " dense_37 (Dense)            (None, 1)                 51        \n",
      "                                                                 \n",
      "=================================================================\n",
      "Total params: 5618 (21.95 KB)\n",
      "Trainable params: 5601 (21.88 KB)\n",
      "Non-trainable params: 17 (72.00 Byte)\n",
      "_________________________________________________________________\n"
     ]
    }
   ],
   "execution_count": 34
  },
  {
   "metadata": {
    "ExecuteTime": {
     "end_time": "2025-07-24T02:12:27.910959Z",
     "start_time": "2025-07-24T02:12:27.673264Z"
    }
   },
   "cell_type": "code",
   "source": "keras.utils.plot_model(func_model, \"mlp_fmnist_regressor_functional.png\", show_shapes=True)",
   "id": "2ea4249a03a9ce89",
   "outputs": [
    {
     "data": {
      "image/png": "[encoded data removed]",
      "text/plain": [
       "<IPython.core.display.Image object>"
      ]
     },
     "execution_count": 35,
     "metadata": {},
     "output_type": "execute_result"
    }
   ],
   "execution_count": 35
  },
  {
   "metadata": {
    "ExecuteTime": {
     "end_time": "2025-07-24T02:14:43.024530Z",
     "start_time": "2025-07-24T02:14:43.011474Z"
    }
   },
   "cell_type": "code",
   "source": "func_model.compile(loss=\"mse\", optimizer=\"sgd\", metrics=['RootMeanSquaredError'])",
   "id": "e37bd58bccacbedc",
   "outputs": [],
   "execution_count": 40
  },
  {
   "metadata": {
    "ExecuteTime": {
     "end_time": "2025-07-24T02:14:58.737370Z",
     "start_time": "2025-07-24T02:14:44.491511Z"
    }
   },
   "cell_type": "code",
   "source": "func_history = func_model.fit(X_train, y_train, epochs=20, validation_data=(X_valid, y_valid))",
   "id": "acd6d64c3628ae9",
   "outputs": [
    {
     "name": "stdout",
     "output_type": "stream",
     "text": [
      "Epoch 1/20\n",
      "363/363 [==============================] - 1s 2ms/step - loss: 0.2704 - root_mean_squared_error: 0.5200 - val_loss: 0.2915 - val_root_mean_squared_error: 0.5399\n",
      "Epoch 2/20\n",
      "363/363 [==============================] - 1s 2ms/step - loss: 0.2700 - root_mean_squared_error: 0.5196 - val_loss: 0.2704 - val_root_mean_squared_error: 0.5200\n",
      "Epoch 3/20\n",
      "363/363 [==============================] - 1s 2ms/step - loss: 0.2679 - root_mean_squared_error: 0.5176 - val_loss: 0.3006 - val_root_mean_squared_error: 0.5483\n",
      "Epoch 4/20\n",
      "363/363 [==============================] - 1s 2ms/step - loss: 0.2680 - root_mean_squared_error: 0.5177 - val_loss: 0.2685 - val_root_mean_squared_error: 0.5182\n",
      "Epoch 5/20\n",
      "363/363 [==============================] - 1s 2ms/step - loss: 0.2662 - root_mean_squared_error: 0.5159 - val_loss: 0.2681 - val_root_mean_squared_error: 0.5177\n",
      "Epoch 6/20\n",
      "363/363 [==============================] - 1s 2ms/step - loss: 0.2658 - root_mean_squared_error: 0.5155 - val_loss: 0.2869 - val_root_mean_squared_error: 0.5356\n",
      "Epoch 7/20\n",
      "363/363 [==============================] - 1s 2ms/step - loss: 0.2664 - root_mean_squared_error: 0.5161 - val_loss: 0.2610 - val_root_mean_squared_error: 0.5109\n",
      "Epoch 8/20\n",
      "363/363 [==============================] - 1s 2ms/step - loss: 0.2628 - root_mean_squared_error: 0.5126 - val_loss: 0.2695 - val_root_mean_squared_error: 0.5191\n",
      "Epoch 9/20\n",
      "363/363 [==============================] - 1s 2ms/step - loss: 0.2634 - root_mean_squared_error: 0.5132 - val_loss: 0.3418 - val_root_mean_squared_error: 0.5847\n",
      "Epoch 10/20\n",
      "363/363 [==============================] - 1s 2ms/step - loss: 0.2625 - root_mean_squared_error: 0.5124 - val_loss: 0.3151 - val_root_mean_squared_error: 0.5613\n",
      "Epoch 11/20\n",
      "363/363 [==============================] - 1s 2ms/step - loss: 0.2623 - root_mean_squared_error: 0.5122 - val_loss: 0.3881 - val_root_mean_squared_error: 0.6230\n",
      "Epoch 12/20\n",
      "363/363 [==============================] - 1s 2ms/step - loss: 0.2624 - root_mean_squared_error: 0.5123 - val_loss: 0.3504 - val_root_mean_squared_error: 0.5919\n",
      "Epoch 13/20\n",
      "363/363 [==============================] - 1s 2ms/step - loss: 0.2612 - root_mean_squared_error: 0.5110 - val_loss: 0.3669 - val_root_mean_squared_error: 0.6057\n",
      "Epoch 14/20\n",
      "363/363 [==============================] - 1s 2ms/step - loss: 0.2614 - root_mean_squared_error: 0.5113 - val_loss: 0.2742 - val_root_mean_squared_error: 0.5237\n",
      "Epoch 15/20\n",
      "363/363 [==============================] - 1s 2ms/step - loss: 0.2589 - root_mean_squared_error: 0.5088 - val_loss: 0.4174 - val_root_mean_squared_error: 0.6461\n",
      "Epoch 16/20\n",
      "363/363 [==============================] - 1s 2ms/step - loss: 0.2604 - root_mean_squared_error: 0.5103 - val_loss: 0.3108 - val_root_mean_squared_error: 0.5575\n",
      "Epoch 17/20\n",
      "363/363 [==============================] - 1s 2ms/step - loss: 0.2591 - root_mean_squared_error: 0.5090 - val_loss: 0.2824 - val_root_mean_squared_error: 0.5314\n",
      "Epoch 18/20\n",
      "363/363 [==============================] - 1s 2ms/step - loss: 0.2567 - root_mean_squared_error: 0.5067 - val_loss: 0.2615 - val_root_mean_squared_error: 0.5114\n",
      "Epoch 19/20\n",
      "363/363 [==============================] - 1s 2ms/step - loss: 0.2572 - root_mean_squared_error: 0.5071 - val_loss: 0.2987 - val_root_mean_squared_error: 0.5465\n",
      "Epoch 20/20\n",
      "363/363 [==============================] - 1s 2ms/step - loss: 0.2558 - root_mean_squared_error: 0.5058 - val_loss: 0.2887 - val_root_mean_squared_error: 0.5373\n"
     ]
    }
   ],
   "execution_count": 41
  },
  {
   "metadata": {
    "ExecuteTime": {
     "end_time": "2025-07-24T02:15:05.603870Z",
     "start_time": "2025-07-24T02:15:05.312928Z"
    }
   },
   "cell_type": "code",
   "source": "func_model.evaluate(X_test, y_test)",
   "id": "95273c6f3b3cc59a",
   "outputs": [
    {
     "name": "stdout",
     "output_type": "stream",
     "text": [
      "162/162 [==============================] - 0s 1ms/step - loss: 0.2948 - root_mean_squared_error: 0.5429\n"
     ]
    },
    {
     "data": {
      "text/plain": [
       "[0.294765442609787, 0.5429230332374573]"
      ]
     },
     "execution_count": 42,
     "metadata": {},
     "output_type": "execute_result"
    }
   ],
   "execution_count": 42
  },
  {
   "metadata": {},
   "cell_type": "markdown",
   "source": "But what if you want to send a subset of the features through the wide path, and a  different subset (possibly overlapping) through the deep path (see Figure 10-14)? In this case, one solution is to use multiple inputs.",
   "id": "dcfa5242ccc35e75"
  },
  {
   "metadata": {
    "ExecuteTime": {
     "end_time": "2025-07-24T16:29:58.107151Z",
     "start_time": "2025-07-24T16:29:58.011893Z"
    }
   },
   "cell_type": "code",
   "source": [
    "input_wide = keras.layers.Input(shape=[5]) # features 0 to 4\n",
    "input_deep = keras.layers.Input(shape=[6]) # features 2 to 7\n",
    "norm_layer_wide = keras.layers.Normalization()\n",
    "norm_layer_deep = keras.layers.Normalization()\n",
    "norm_wide = norm_layer_wide(input_wide)\n",
    "norm_deep = norm_layer_deep(input_deep)\n",
    "\n",
    "hidden1_layer = keras.layers.Dense(50, activation=\"relu\")\n",
    "hidden2_layer = keras.layers.Dense(50, activation=\"relu\")\n",
    "concat_layer = keras.layers.Concatenate()\n",
    "output_layer = keras.layers.Dense(1)\n",
    "\n",
    "hidden1 = hidden1_layer(norm_deep)\n",
    "hidden2 = hidden2_layer(hidden1)\n",
    "concat = concat_layer([norm_wide, hidden2])\n",
    "output = output_layer(concat)\n",
    "\n",
    "mi_model = keras.models.Model(inputs=[input_wide, input_deep], outputs=[output])\n",
    "mi_model.summary()"
   ],
   "id": "968a6594ce9a3b77",
   "outputs": [
    {
     "name": "stdout",
     "output_type": "stream",
     "text": [
      "Model: \"model_1\"\n",
      "__________________________________________________________________________________________________\n",
      " Layer (type)                Output Shape                 Param #   Connected to                  \n",
      "==================================================================================================\n",
      " input_6 (InputLayer)        [(None, 6)]                  0         []                            \n",
      "                                                                                                  \n",
      " normalization_5 (Normaliza  (None, 6)                    13        ['input_6[0][0]']             \n",
      " tion)                                                                                            \n",
      "                                                                                                  \n",
      " input_5 (InputLayer)        [(None, 5)]                  0         []                            \n",
      "                                                                                                  \n",
      " dense_6 (Dense)             (None, 50)                   350       ['normalization_5[0][0]']     \n",
      "                                                                                                  \n",
      " normalization_4 (Normaliza  (None, 5)                    11        ['input_5[0][0]']             \n",
      " tion)                                                                                            \n",
      "                                                                                                  \n",
      " dense_7 (Dense)             (None, 50)                   2550      ['dense_6[0][0]']             \n",
      "                                                                                                  \n",
      " concatenate_2 (Concatenate  (None, 55)                   0         ['normalization_4[0][0]',     \n",
      " )                                                                   'dense_7[0][0]']             \n",
      "                                                                                                  \n",
      " dense_8 (Dense)             (None, 1)                    56        ['concatenate_2[0][0]']       \n",
      "                                                                                                  \n",
      "==================================================================================================\n",
      "Total params: 2980 (11.65 KB)\n",
      "Trainable params: 2956 (11.55 KB)\n",
      "Non-trainable params: 24 (104.00 Byte)\n",
      "__________________________________________________________________________________________________\n"
     ]
    }
   ],
   "execution_count": 17
  },
  {
   "metadata": {
    "ExecuteTime": {
     "end_time": "2025-07-24T16:30:02.760505Z",
     "start_time": "2025-07-24T16:30:01.330419Z"
    }
   },
   "cell_type": "code",
   "source": "keras.utils.plot_model(mi_model, \"mlp_fmnist_regressor_functional_multiple_input.png\", show_shapes=True)",
   "id": "d48ef69abc53ca77",
   "outputs": [
    {
     "data": {
      "image/png": "[encoded data removed]",
      "text/plain": [
       "<IPython.core.display.Image object>"
      ]
     },
     "execution_count": 18,
     "metadata": {},
     "output_type": "execute_result"
    }
   ],
   "execution_count": 18
  },
  {
   "metadata": {
    "ExecuteTime": {
     "end_time": "2025-07-24T16:30:10.058542Z",
     "start_time": "2025-07-24T16:30:10.049308Z"
    }
   },
   "cell_type": "code",
   "source": "mi_model.compile(loss=\"mse\", optimizer=keras.optimizers.Adam(learning_rate=0.001), metrics=['RootMeanSquaredError'])",
   "id": "ebdcbff717f59a66",
   "outputs": [],
   "execution_count": 19
  },
  {
   "metadata": {
    "ExecuteTime": {
     "end_time": "2025-07-24T16:30:20.173669Z",
     "start_time": "2025-07-24T16:30:20.169490Z"
    }
   },
   "cell_type": "code",
   "source": [
    "X_train_wide, X_train_deep = X_train[:, :5], X_train[:, 2:]\n",
    "X_valid_wide, X_valid_deep = X_valid[:, :5], X_valid[:, 2:]\n",
    "X_test_wide, X_test_deep = X_test[:, :5], X_test[:, 2:]"
   ],
   "id": "42599fe553aa1102",
   "outputs": [],
   "execution_count": 20
  },
  {
   "metadata": {
    "ExecuteTime": {
     "end_time": "2025-07-24T16:30:22.379188Z",
     "start_time": "2025-07-24T16:30:21.494740Z"
    }
   },
   "cell_type": "code",
   "source": [
    "norm_layer_wide.adapt(X_train_wide)\n",
    "norm_layer_deep.adapt(X_train_deep)"
   ],
   "id": "a2e186c53b92501f",
   "outputs": [],
   "execution_count": 21
  },
  {
   "metadata": {
    "ExecuteTime": {
     "end_time": "2025-07-24T16:30:47.329686Z",
     "start_time": "2025-07-24T16:30:32.152811Z"
    }
   },
   "cell_type": "code",
   "source": "mi_history = mi_model.fit((X_train_wide, X_train_deep), y_train, epochs=20, validation_data=((X_valid_wide, X_valid_deep), y_valid))",
   "id": "d948399ae1545802",
   "outputs": [
    {
     "name": "stdout",
     "output_type": "stream",
     "text": [
      "Epoch 1/20\n",
      "363/363 [==============================] - 2s 2ms/step - loss: 1.8066 - root_mean_squared_error: 1.3441 - val_loss: 5.2745 - val_root_mean_squared_error: 2.2966\n",
      "Epoch 2/20\n",
      "363/363 [==============================] - 1s 2ms/step - loss: 0.5878 - root_mean_squared_error: 0.7667 - val_loss: 1.6624 - val_root_mean_squared_error: 1.2893\n",
      "Epoch 3/20\n",
      "363/363 [==============================] - 1s 2ms/step - loss: 0.4725 - root_mean_squared_error: 0.6874 - val_loss: 1.8695 - val_root_mean_squared_error: 1.3673\n",
      "Epoch 4/20\n",
      "363/363 [==============================] - 1s 2ms/step - loss: 0.4329 - root_mean_squared_error: 0.6579 - val_loss: 1.1082 - val_root_mean_squared_error: 1.0527\n",
      "Epoch 5/20\n",
      "363/363 [==============================] - 1s 2ms/step - loss: 0.3903 - root_mean_squared_error: 0.6248 - val_loss: 1.0381 - val_root_mean_squared_error: 1.0189\n",
      "Epoch 6/20\n",
      "363/363 [==============================] - 1s 2ms/step - loss: 0.3702 - root_mean_squared_error: 0.6084 - val_loss: 5.0722 - val_root_mean_squared_error: 2.2521\n",
      "Epoch 7/20\n",
      "363/363 [==============================] - 1s 2ms/step - loss: 0.3814 - root_mean_squared_error: 0.6176 - val_loss: 21.5817 - val_root_mean_squared_error: 4.6456\n",
      "Epoch 8/20\n",
      "363/363 [==============================] - 1s 2ms/step - loss: 0.5477 - root_mean_squared_error: 0.7401 - val_loss: 29.0012 - val_root_mean_squared_error: 5.3853\n",
      "Epoch 9/20\n",
      "363/363 [==============================] - 1s 2ms/step - loss: 0.5798 - root_mean_squared_error: 0.7614 - val_loss: 8.5167 - val_root_mean_squared_error: 2.9183\n",
      "Epoch 10/20\n",
      "363/363 [==============================] - 1s 2ms/step - loss: 0.3888 - root_mean_squared_error: 0.6235 - val_loss: 3.1057 - val_root_mean_squared_error: 1.7623\n",
      "Epoch 11/20\n",
      "363/363 [==============================] - 1s 2ms/step - loss: 0.3537 - root_mean_squared_error: 0.5947 - val_loss: 1.5423 - val_root_mean_squared_error: 1.2419\n",
      "Epoch 12/20\n",
      "363/363 [==============================] - 1s 2ms/step - loss: 0.3420 - root_mean_squared_error: 0.5848 - val_loss: 0.6888 - val_root_mean_squared_error: 0.8300\n",
      "Epoch 13/20\n",
      "363/363 [==============================] - 1s 2ms/step - loss: 0.3315 - root_mean_squared_error: 0.5758 - val_loss: 1.0700 - val_root_mean_squared_error: 1.0344\n",
      "Epoch 14/20\n",
      "363/363 [==============================] - 1s 2ms/step - loss: 0.3313 - root_mean_squared_error: 0.5756 - val_loss: 1.2771 - val_root_mean_squared_error: 1.1301\n",
      "Epoch 15/20\n",
      "363/363 [==============================] - 1s 2ms/step - loss: 0.3343 - root_mean_squared_error: 0.5782 - val_loss: 1.7414 - val_root_mean_squared_error: 1.3196\n",
      "Epoch 16/20\n",
      "363/363 [==============================] - 1s 2ms/step - loss: 0.3365 - root_mean_squared_error: 0.5801 - val_loss: 6.7199 - val_root_mean_squared_error: 2.5923\n",
      "Epoch 17/20\n",
      "363/363 [==============================] - 1s 2ms/step - loss: 0.3575 - root_mean_squared_error: 0.5979 - val_loss: 11.8864 - val_root_mean_squared_error: 3.4477\n",
      "Epoch 18/20\n",
      "363/363 [==============================] - 1s 2ms/step - loss: 0.4237 - root_mean_squared_error: 0.6509 - val_loss: 5.1885 - val_root_mean_squared_error: 2.2778\n",
      "Epoch 19/20\n",
      "363/363 [==============================] - 1s 2ms/step - loss: 0.3435 - root_mean_squared_error: 0.5861 - val_loss: 4.7327 - val_root_mean_squared_error: 2.1755\n",
      "Epoch 20/20\n",
      "363/363 [==============================] - 1s 2ms/step - loss: 0.3565 - root_mean_squared_error: 0.5970 - val_loss: 2.3955 - val_root_mean_squared_error: 1.5477\n"
     ]
    }
   ],
   "execution_count": 22
  },
  {
   "metadata": {
    "ExecuteTime": {
     "end_time": "2025-07-24T16:31:31.059178Z",
     "start_time": "2025-07-24T16:31:30.761942Z"
    }
   },
   "cell_type": "code",
   "source": "mi_model.evaluate((X_test_wide, X_test_deep), y_test)",
   "id": "fa5d5e22498e35d8",
   "outputs": [
    {
     "name": "stdout",
     "output_type": "stream",
     "text": [
      "162/162 [==============================] - 0s 1ms/step - loss: 0.3317 - root_mean_squared_error: 0.5759\n"
     ]
    },
    {
     "data": {
      "text/plain": [
       "[0.33171314001083374, 0.5759454369544983]"
      ]
     },
     "execution_count": 23,
     "metadata": {},
     "output_type": "execute_result"
    }
   ],
   "execution_count": 23
  },
  {
   "metadata": {},
   "cell_type": "markdown",
   "source": [
    "There are also many use cases in which you may want to have multiple outputs:\n",
    "\n",
    "1. The task may demand it, for example you may want to locate and classify the  main object in a picture. This is both a regression task (finding the coordinates of the object’s center, as well as its width and height) and a classification task."
   ],
   "id": "a3219ac9c9e0d5d2"
  },
  {
   "metadata": {},
   "cell_type": "code",
   "outputs": [],
   "execution_count": null,
   "source": [
    "inputA = keras.layers.Input(shape=[5])\n",
    "inputB = keras.layers.Input(shape=[6])\n",
    "hidden1 = keras.layers.Dense(50, activation=\"relu\")(inputB)\n",
    "hidden2 = keras.layers.Dense(50, activation=\"relu\")(hidden1)\n",
    "concat = keras.layers.Concatenate()[inputA, hidden2]\n",
    "output = keras.layers.Dense(1)(concat)\n",
    "aux_output = keras.layers.Dense(1)(hidden2)\n",
    "\n",
    "mo_model = keras.models.Model(inputs=[inputA, inputB], outputs=[output, aux_output])\n",
    "mo_model.summary()"
   ],
   "id": "4805c4c88861fa20"
  },
  {
   "metadata": {},
   "cell_type": "code",
   "outputs": [],
   "execution_count": null,
   "source": "keras.utils.plot_model(mo_model, \"mlp_fmnist_regressor_functional_multiple_output.png\", show_shapes=True)",
   "id": "8ed7422b0fb1905f"
  },
  {
   "metadata": {},
   "cell_type": "markdown",
   "source": "##  Building Dynamic Models Using the Subclassing API",
   "id": "c3102283b7ec31e6"
  },
  {
   "metadata": {},
   "cell_type": "markdown",
   "source": "Simply subclass the Model class, create the layers you need in the constructor, and use them to perform the computations you want in the call() method.  For example, creating an instance of the following WideAndDeepModel class gives us an equivalent model to the one we just built with the Functional API.",
   "id": "41d2ebbdc80421c9"
  },
  {
   "metadata": {
    "ExecuteTime": {
     "end_time": "2025-07-24T17:06:04.046973Z",
     "start_time": "2025-07-24T17:06:04.030748Z"
    }
   },
   "cell_type": "code",
   "source": [
    "class WideAndDeepModel(keras.Model):\n",
    "    def __init__(self, units=30, activation=\"relu\", **kwargs):\n",
    "        super().__init__(**kwargs)\n",
    "        self.norm_layer_wide = keras.layers.Normalization()\n",
    "        self.norm_layer_deep = keras.layers.Normalization()\n",
    "        self.hidden1_layer = keras.layers.Dense(units, activation=activation)\n",
    "        self.hidden2_layer = keras.layers.Dense(units, activation=activation)\n",
    "        self.concat_layer = keras.layers.Concatenate()\n",
    "        self.output_layer = keras.layers.Dense(1)\n",
    "\n",
    "    def call(self, inputs):\n",
    "        input_wide, input_deep = inputs\n",
    "        norm_wide = self.norm_layer_wide(input_wide)\n",
    "        norm_deep = self.norm_layer_deep(input_deep)\n",
    "        hidden1 = self.hidden1_layer(norm_deep)\n",
    "        hidden2 = self.hidden2_layer(hidden1)\n",
    "        concat = self.concat_layer([norm_wide, hidden2])\n",
    "        return self.output_layer(concat)\n",
    "\n",
    "custom_model = WideAndDeepModel(units=30, activation=\"relu\", name=\"my_custom_model\")"
   ],
   "id": "fb8313af128e294f",
   "outputs": [],
   "execution_count": 40
  },
  {
   "metadata": {
    "ExecuteTime": {
     "end_time": "2025-07-24T17:06:07.188600Z",
     "start_time": "2025-07-24T17:06:06.125691Z"
    }
   },
   "cell_type": "code",
   "source": [
    "custom_model.norm_layer_wide.adapt(X_train_wide)\n",
    "custom_model.norm_layer_deep.adapt(X_train_deep)"
   ],
   "id": "f2b4f6da6a1362b1",
   "outputs": [],
   "execution_count": 41
  },
  {
   "metadata": {
    "ExecuteTime": {
     "end_time": "2025-07-24T17:07:24.450506Z",
     "start_time": "2025-07-24T17:07:24.446827Z"
    }
   },
   "cell_type": "code",
   "source": "#custom_model.summary()",
   "id": "45646dc00b24c63a",
   "outputs": [],
   "execution_count": 43
  },
  {
   "metadata": {
    "ExecuteTime": {
     "end_time": "2025-07-24T17:07:29.577236Z",
     "start_time": "2025-07-24T17:07:29.566752Z"
    }
   },
   "cell_type": "code",
   "source": "custom_model.compile(loss=\"mse\", optimizer=keras.optimizers.Adam(learning_rate=0.001), metrics=['RootMeanSquaredError'])",
   "id": "d4d29cd87e57a412",
   "outputs": [],
   "execution_count": 44
  },
  {
   "metadata": {
    "ExecuteTime": {
     "end_time": "2025-07-24T17:07:36.161799Z",
     "start_time": "2025-07-24T17:07:36.159357Z"
    }
   },
   "cell_type": "code",
   "source": "#keras.utils.plot_model(custom_model, \"mlp_fmnist_regressor_custom_model.png\", show_shapes=True)",
   "id": "11c07699a735a505",
   "outputs": [],
   "execution_count": 46
  },
  {
   "metadata": {
    "ExecuteTime": {
     "end_time": "2025-07-24T17:08:30.110669Z",
     "start_time": "2025-07-24T17:08:14.811413Z"
    }
   },
   "cell_type": "code",
   "source": "custom_history = custom_model.fit((X_train_wide, X_train_deep), y_train, epochs=20, validation_data=((X_valid_wide, X_valid_deep), y_valid))",
   "id": "4dd219123c70d8b7",
   "outputs": [
    {
     "name": "stdout",
     "output_type": "stream",
     "text": [
      "Epoch 1/20\n",
      "363/363 [==============================] - 2s 2ms/step - loss: 1.5366 - root_mean_squared_error: 1.2396 - val_loss: 2.1624 - val_root_mean_squared_error: 1.4705\n",
      "Epoch 2/20\n",
      "363/363 [==============================] - 1s 2ms/step - loss: 0.5021 - root_mean_squared_error: 0.7086 - val_loss: 0.4243 - val_root_mean_squared_error: 0.6514\n",
      "Epoch 3/20\n",
      "363/363 [==============================] - 1s 2ms/step - loss: 0.4210 - root_mean_squared_error: 0.6488 - val_loss: 0.4078 - val_root_mean_squared_error: 0.6386\n",
      "Epoch 4/20\n",
      "363/363 [==============================] - 1s 2ms/step - loss: 0.4049 - root_mean_squared_error: 0.6363 - val_loss: 0.4005 - val_root_mean_squared_error: 0.6329\n",
      "Epoch 5/20\n",
      "363/363 [==============================] - 1s 2ms/step - loss: 0.3966 - root_mean_squared_error: 0.6297 - val_loss: 0.3840 - val_root_mean_squared_error: 0.6197\n",
      "Epoch 6/20\n",
      "363/363 [==============================] - 1s 2ms/step - loss: 0.3889 - root_mean_squared_error: 0.6236 - val_loss: 0.5790 - val_root_mean_squared_error: 0.7609\n",
      "Epoch 7/20\n",
      "363/363 [==============================] - 1s 2ms/step - loss: 0.3820 - root_mean_squared_error: 0.6180 - val_loss: 1.1620 - val_root_mean_squared_error: 1.0780\n",
      "Epoch 8/20\n",
      "363/363 [==============================] - 1s 2ms/step - loss: 0.3787 - root_mean_squared_error: 0.6154 - val_loss: 1.1360 - val_root_mean_squared_error: 1.0658\n",
      "Epoch 9/20\n",
      "363/363 [==============================] - 1s 2ms/step - loss: 0.3760 - root_mean_squared_error: 0.6132 - val_loss: 1.2310 - val_root_mean_squared_error: 1.1095\n",
      "Epoch 10/20\n",
      "363/363 [==============================] - 1s 2ms/step - loss: 0.3713 - root_mean_squared_error: 0.6093 - val_loss: 4.0000 - val_root_mean_squared_error: 2.0000\n",
      "Epoch 11/20\n",
      "363/363 [==============================] - 1s 2ms/step - loss: 0.3872 - root_mean_squared_error: 0.6223 - val_loss: 1.2806 - val_root_mean_squared_error: 1.1316\n",
      "Epoch 12/20\n",
      "363/363 [==============================] - 1s 2ms/step - loss: 0.3625 - root_mean_squared_error: 0.6021 - val_loss: 1.6352 - val_root_mean_squared_error: 1.2787\n",
      "Epoch 13/20\n",
      "363/363 [==============================] - 1s 2ms/step - loss: 0.3535 - root_mean_squared_error: 0.5945 - val_loss: 0.9380 - val_root_mean_squared_error: 0.9685\n",
      "Epoch 14/20\n",
      "363/363 [==============================] - 1s 2ms/step - loss: 0.3489 - root_mean_squared_error: 0.5907 - val_loss: 0.9236 - val_root_mean_squared_error: 0.9611\n",
      "Epoch 15/20\n",
      "363/363 [==============================] - 1s 2ms/step - loss: 0.3424 - root_mean_squared_error: 0.5851 - val_loss: 0.4527 - val_root_mean_squared_error: 0.6728\n",
      "Epoch 16/20\n",
      "363/363 [==============================] - 1s 2ms/step - loss: 0.3401 - root_mean_squared_error: 0.5832 - val_loss: 0.6114 - val_root_mean_squared_error: 0.7819\n",
      "Epoch 17/20\n",
      "363/363 [==============================] - 1s 2ms/step - loss: 0.3435 - root_mean_squared_error: 0.5861 - val_loss: 0.3215 - val_root_mean_squared_error: 0.5670\n",
      "Epoch 18/20\n",
      "363/363 [==============================] - 1s 2ms/step - loss: 0.3329 - root_mean_squared_error: 0.5770 - val_loss: 0.4359 - val_root_mean_squared_error: 0.6602\n",
      "Epoch 19/20\n",
      "363/363 [==============================] - 1s 2ms/step - loss: 0.3326 - root_mean_squared_error: 0.5767 - val_loss: 0.3507 - val_root_mean_squared_error: 0.5922\n",
      "Epoch 20/20\n",
      "363/363 [==============================] - 1s 2ms/step - loss: 0.3327 - root_mean_squared_error: 0.5768 - val_loss: 0.4595 - val_root_mean_squared_error: 0.6779\n"
     ]
    }
   ],
   "execution_count": 47
  },
  {
   "metadata": {
    "ExecuteTime": {
     "end_time": "2025-07-24T17:09:07.966799Z",
     "start_time": "2025-07-24T17:09:07.668919Z"
    }
   },
   "cell_type": "code",
   "source": "custom_model.evaluate((X_test_wide, X_test_deep), y_test)",
   "id": "27ec05423904c55b",
   "outputs": [
    {
     "name": "stdout",
     "output_type": "stream",
     "text": [
      "162/162 [==============================] - 0s 1ms/step - loss: 0.3312 - root_mean_squared_error: 0.5755\n"
     ]
    },
    {
     "data": {
      "text/plain": [
       "[0.33115819096565247, 0.5754634737968445]"
      ]
     },
     "execution_count": 48,
     "metadata": {},
     "output_type": "execute_result"
    }
   ],
   "execution_count": 48
  }
 ],
 "metadata": {
  "kernelspec": {
   "display_name": "Python (venv)",
   "language": "python",
   "name": "tf-keras-labs"
  },
  "language_info": {
   "codemirror_mode": {
    "name": "ipython",
    "version": 2
   },
   "file_extension": ".py",
   "mimetype": "text/x-python",
   "name": "python",
   "nbconvert_exporter": "python",
   "pygments_lexer": "ipython2",
   "version": "2.7.6"
  }
 },
 "nbformat": 4,
 "nbformat_minor": 5
}
