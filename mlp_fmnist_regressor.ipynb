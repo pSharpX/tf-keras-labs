{
 "cells": [
  {
   "metadata": {},
   "cell_type": "markdown",
   "source": "## Building a Regression MLP Using the Sequential API",
   "id": "e98706795f5707bc"
  },
  {
   "cell_type": "code",
   "id": "initial_id",
   "metadata": {
    "collapsed": true,
    "ExecuteTime": {
     "end_time": "2025-07-24T01:51:27.946982Z",
     "start_time": "2025-07-24T01:51:20.486128Z"
    }
   },
   "source": [
    "import sklearn\n",
    "import keras\n",
    "import tensorflow as tf\n",
    "import pandas as pd\n",
    "import matplotlib.pyplot as plt\n",
    "import warnings\n",
    "from sklearn.datasets import fetch_california_housing\n",
    "from sklearn.model_selection import train_test_split\n",
    "from sklearn.preprocessing import StandardScaler\n",
    "\n",
    "warnings.filterwarnings(\"ignore\")\n",
    "\n",
    "print(f\"Scikit-learn: {sklearn.__version__}\")\n",
    "print(f\"Tensorflow: {tf.__version__}\")\n",
    "print(f\"Keras: {keras.__version__}\")"
   ],
   "outputs": [
    {
     "name": "stdout",
     "output_type": "stream",
     "text": [
      "WARNING:tensorflow:From C:\\Users\\DELL\\AppData\\Roaming\\Python\\Python311\\site-packages\\keras\\src\\losses.py:2976: The name tf.losses.sparse_softmax_cross_entropy is deprecated. Please use tf.compat.v1.losses.sparse_softmax_cross_entropy instead.\n",
      "\n",
      "Scikit-learn: 1.3.0\n",
      "Tensorflow: 2.15.0\n",
      "Keras: 2.15.0\n"
     ]
    }
   ],
   "execution_count": 1
  },
  {
   "metadata": {
    "ExecuteTime": {
     "end_time": "2025-07-24T01:51:31.447380Z",
     "start_time": "2025-07-24T01:51:31.429739Z"
    }
   },
   "cell_type": "code",
   "source": [
    "housing = fetch_california_housing()\n",
    "housing.data.shape"
   ],
   "id": "13a8a47b4321da42",
   "outputs": [
    {
     "data": {
      "text/plain": [
       "(20640, 8)"
      ]
     },
     "execution_count": 2,
     "metadata": {},
     "output_type": "execute_result"
    }
   ],
   "execution_count": 2
  },
  {
   "metadata": {
    "ExecuteTime": {
     "end_time": "2025-07-24T01:51:32.713535Z",
     "start_time": "2025-07-24T01:51:32.707515Z"
    }
   },
   "cell_type": "code",
   "source": "housing.target",
   "id": "e830b4719d63ca56",
   "outputs": [
    {
     "data": {
      "text/plain": [
       "array([4.526, 3.585, 3.521, ..., 0.923, 0.847, 0.894])"
      ]
     },
     "execution_count": 3,
     "metadata": {},
     "output_type": "execute_result"
    }
   ],
   "execution_count": 3
  },
  {
   "metadata": {
    "ExecuteTime": {
     "end_time": "2025-07-24T01:51:36.912876Z",
     "start_time": "2025-07-24T01:51:36.893247Z"
    }
   },
   "cell_type": "code",
   "source": "pd.DataFrame(housing.data, columns=housing.feature_names)",
   "id": "6bca1f92e7ab8e78",
   "outputs": [
    {
     "data": {
      "text/plain": [
       "       MedInc  HouseAge  AveRooms  AveBedrms  Population  AveOccup  Latitude  \\\n",
       "0      8.3252      41.0  6.984127   1.023810       322.0  2.555556     37.88   \n",
       "1      8.3014      21.0  6.238137   0.971880      2401.0  2.109842     37.86   \n",
       "2      7.2574      52.0  8.288136   1.073446       496.0  2.802260     37.85   \n",
       "3      5.6431      52.0  5.817352   1.073059       558.0  2.547945     37.85   \n",
       "4      3.8462      52.0  6.281853   1.081081       565.0  2.181467     37.85   \n",
       "...       ...       ...       ...        ...         ...       ...       ...   \n",
       "20635  1.5603      25.0  5.045455   1.133333       845.0  2.560606     39.48   \n",
       "20636  2.5568      18.0  6.114035   1.315789       356.0  3.122807     39.49   \n",
       "20637  1.7000      17.0  5.205543   1.120092      1007.0  2.325635     39.43   \n",
       "20638  1.8672      18.0  5.329513   1.171920       741.0  2.123209     39.43   \n",
       "20639  2.3886      16.0  5.254717   1.162264      1387.0  2.616981     39.37   \n",
       "\n",
       "       Longitude  \n",
       "0        -122.23  \n",
       "1        -122.22  \n",
       "2        -122.24  \n",
       "3        -122.25  \n",
       "4        -122.25  \n",
       "...          ...  \n",
       "20635    -121.09  \n",
       "20636    -121.21  \n",
       "20637    -121.22  \n",
       "20638    -121.32  \n",
       "20639    -121.24  \n",
       "\n",
       "[20640 rows x 8 columns]"
      ],
      "text/html": [
       "<div>\n",
       "<style scoped>\n",
       "    .dataframe tbody tr th:only-of-type {\n",
       "        vertical-align: middle;\n",
       "    }\n",
       "\n",
       "    .dataframe tbody tr th {\n",
       "        vertical-align: top;\n",
       "    }\n",
       "\n",
       "    .dataframe thead th {\n",
       "        text-align: right;\n",
       "    }\n",
       "</style>\n",
       "<table border=\"1\" class=\"dataframe\">\n",
       "  <thead>\n",
       "    <tr style=\"text-align: right;\">\n",
       "      <th></th>\n",
       "      <th>MedInc</th>\n",
       "      <th>HouseAge</th>\n",
       "      <th>AveRooms</th>\n",
       "      <th>AveBedrms</th>\n",
       "      <th>Population</th>\n",
       "      <th>AveOccup</th>\n",
       "      <th>Latitude</th>\n",
       "      <th>Longitude</th>\n",
       "    </tr>\n",
       "  </thead>\n",
       "  <tbody>\n",
       "    <tr>\n",
       "      <th>0</th>\n",
       "      <td>8.3252</td>\n",
       "      <td>41.0</td>\n",
       "      <td>6.984127</td>\n",
       "      <td>1.023810</td>\n",
       "      <td>322.0</td>\n",
       "      <td>2.555556</td>\n",
       "      <td>37.88</td>\n",
       "      <td>-122.23</td>\n",
       "    </tr>\n",
       "    <tr>\n",
       "      <th>1</th>\n",
       "      <td>8.3014</td>\n",
       "      <td>21.0</td>\n",
       "      <td>6.238137</td>\n",
       "      <td>0.971880</td>\n",
       "      <td>2401.0</td>\n",
       "      <td>2.109842</td>\n",
       "      <td>37.86</td>\n",
       "      <td>-122.22</td>\n",
       "    </tr>\n",
       "    <tr>\n",
       "      <th>2</th>\n",
       "      <td>7.2574</td>\n",
       "      <td>52.0</td>\n",
       "      <td>8.288136</td>\n",
       "      <td>1.073446</td>\n",
       "      <td>496.0</td>\n",
       "      <td>2.802260</td>\n",
       "      <td>37.85</td>\n",
       "      <td>-122.24</td>\n",
       "    </tr>\n",
       "    <tr>\n",
       "      <th>3</th>\n",
       "      <td>5.6431</td>\n",
       "      <td>52.0</td>\n",
       "      <td>5.817352</td>\n",
       "      <td>1.073059</td>\n",
       "      <td>558.0</td>\n",
       "      <td>2.547945</td>\n",
       "      <td>37.85</td>\n",
       "      <td>-122.25</td>\n",
       "    </tr>\n",
       "    <tr>\n",
       "      <th>4</th>\n",
       "      <td>3.8462</td>\n",
       "      <td>52.0</td>\n",
       "      <td>6.281853</td>\n",
       "      <td>1.081081</td>\n",
       "      <td>565.0</td>\n",
       "      <td>2.181467</td>\n",
       "      <td>37.85</td>\n",
       "      <td>-122.25</td>\n",
       "    </tr>\n",
       "    <tr>\n",
       "      <th>...</th>\n",
       "      <td>...</td>\n",
       "      <td>...</td>\n",
       "      <td>...</td>\n",
       "      <td>...</td>\n",
       "      <td>...</td>\n",
       "      <td>...</td>\n",
       "      <td>...</td>\n",
       "      <td>...</td>\n",
       "    </tr>\n",
       "    <tr>\n",
       "      <th>20635</th>\n",
       "      <td>1.5603</td>\n",
       "      <td>25.0</td>\n",
       "      <td>5.045455</td>\n",
       "      <td>1.133333</td>\n",
       "      <td>845.0</td>\n",
       "      <td>2.560606</td>\n",
       "      <td>39.48</td>\n",
       "      <td>-121.09</td>\n",
       "    </tr>\n",
       "    <tr>\n",
       "      <th>20636</th>\n",
       "      <td>2.5568</td>\n",
       "      <td>18.0</td>\n",
       "      <td>6.114035</td>\n",
       "      <td>1.315789</td>\n",
       "      <td>356.0</td>\n",
       "      <td>3.122807</td>\n",
       "      <td>39.49</td>\n",
       "      <td>-121.21</td>\n",
       "    </tr>\n",
       "    <tr>\n",
       "      <th>20637</th>\n",
       "      <td>1.7000</td>\n",
       "      <td>17.0</td>\n",
       "      <td>5.205543</td>\n",
       "      <td>1.120092</td>\n",
       "      <td>1007.0</td>\n",
       "      <td>2.325635</td>\n",
       "      <td>39.43</td>\n",
       "      <td>-121.22</td>\n",
       "    </tr>\n",
       "    <tr>\n",
       "      <th>20638</th>\n",
       "      <td>1.8672</td>\n",
       "      <td>18.0</td>\n",
       "      <td>5.329513</td>\n",
       "      <td>1.171920</td>\n",
       "      <td>741.0</td>\n",
       "      <td>2.123209</td>\n",
       "      <td>39.43</td>\n",
       "      <td>-121.32</td>\n",
       "    </tr>\n",
       "    <tr>\n",
       "      <th>20639</th>\n",
       "      <td>2.3886</td>\n",
       "      <td>16.0</td>\n",
       "      <td>5.254717</td>\n",
       "      <td>1.162264</td>\n",
       "      <td>1387.0</td>\n",
       "      <td>2.616981</td>\n",
       "      <td>39.37</td>\n",
       "      <td>-121.24</td>\n",
       "    </tr>\n",
       "  </tbody>\n",
       "</table>\n",
       "<p>20640 rows × 8 columns</p>\n",
       "</div>"
      ]
     },
     "execution_count": 4,
     "metadata": {},
     "output_type": "execute_result"
    }
   ],
   "execution_count": 4
  },
  {
   "metadata": {
    "ExecuteTime": {
     "end_time": "2025-07-24T01:51:39.917737Z",
     "start_time": "2025-07-24T01:51:39.909127Z"
    }
   },
   "cell_type": "code",
   "source": [
    "X_train_full, X_test, y_train_full, y_test = train_test_split(housing.data, housing.target, random_state=42)\n",
    "print(X_train_full.shape)\n",
    "print(X_test.shape)"
   ],
   "id": "4e03c81e4b897f6a",
   "outputs": [
    {
     "name": "stdout",
     "output_type": "stream",
     "text": [
      "(15480, 8)\n",
      "(5160, 8)\n"
     ]
    }
   ],
   "execution_count": 5
  },
  {
   "metadata": {
    "ExecuteTime": {
     "end_time": "2025-07-24T01:51:41.668287Z",
     "start_time": "2025-07-24T01:51:41.661423Z"
    }
   },
   "cell_type": "code",
   "source": [
    "X_train, X_valid, y_train, y_valid = train_test_split(X_train_full, y_train_full, random_state=42)\n",
    "print(X_train.shape)\n",
    "print(X_valid.shape)"
   ],
   "id": "5a3e2cc285e73494",
   "outputs": [
    {
     "name": "stdout",
     "output_type": "stream",
     "text": [
      "(11610, 8)\n",
      "(3870, 8)\n"
     ]
    }
   ],
   "execution_count": 6
  },
  {
   "metadata": {
    "ExecuteTime": {
     "end_time": "2025-07-24T01:51:45.054396Z",
     "start_time": "2025-07-24T01:51:44.074033Z"
    }
   },
   "cell_type": "code",
   "source": [
    "#scaler = StandardScaler()\n",
    "#X_train_scaled = scaler.fit_transform(X_train)\n",
    "#X_valid_scaled = scaler.transform(X_valid)\n",
    "#X_test_scaled = scaler.transform(X_test)\n",
    "\n",
    "norm_layer = keras.layers.Normalization(input_shape=X_train.shape[1:])\n",
    "norm_layer.adapt(X_train)"
   ],
   "id": "6e0805e29711aa2e",
   "outputs": [
    {
     "name": "stdout",
     "output_type": "stream",
     "text": [
      "WARNING:tensorflow:From C:\\Users\\DELL\\AppData\\Roaming\\Python\\Python311\\site-packages\\keras\\src\\backend.py:873: The name tf.get_default_graph is deprecated. Please use tf.compat.v1.get_default_graph instead.\n",
      "\n"
     ]
    }
   ],
   "execution_count": 7
  },
  {
   "metadata": {},
   "cell_type": "markdown",
   "source": "### Creating the Model Using the Sequential API",
   "id": "eb21a56d876800bf"
  },
  {
   "metadata": {},
   "cell_type": "markdown",
   "source": "Building, training, evaluating and using a regression MLP using the Sequential API to make predictions is quite similar to what we did for classification. The main differences are the fact that the output layer has a single neuron (since we only want to predict a single value) and uses no activation function, and the loss function is the mean squared error.",
   "id": "f0c19e49c20a5c8"
  },
  {
   "metadata": {
    "ExecuteTime": {
     "end_time": "2025-07-24T01:51:47.697153Z",
     "start_time": "2025-07-24T01:51:47.593576Z"
    }
   },
   "cell_type": "code",
   "source": [
    "model = keras.models.Sequential([\n",
    "    norm_layer,\n",
    "    keras.layers.Dense(50, activation=\"relu\"),\n",
    "    keras.layers.Dense(50, activation=\"relu\"),\n",
    "    keras.layers.Dense(50, activation=\"relu\"),\n",
    "    keras.layers.Dense(1),\n",
    "])\n",
    "model.summary()"
   ],
   "id": "d2e7b86ec8edcf7b",
   "outputs": [
    {
     "name": "stdout",
     "output_type": "stream",
     "text": [
      "Model: \"sequential\"\n",
      "_________________________________________________________________\n",
      " Layer (type)                Output Shape              Param #   \n",
      "=================================================================\n",
      " normalization (Normalizati  (None, 8)                 17        \n",
      " on)                                                             \n",
      "                                                                 \n",
      " dense (Dense)               (None, 50)                450       \n",
      "                                                                 \n",
      " dense_1 (Dense)             (None, 50)                2550      \n",
      "                                                                 \n",
      " dense_2 (Dense)             (None, 50)                2550      \n",
      "                                                                 \n",
      " dense_3 (Dense)             (None, 1)                 51        \n",
      "                                                                 \n",
      "=================================================================\n",
      "Total params: 5618 (21.95 KB)\n",
      "Trainable params: 5601 (21.88 KB)\n",
      "Non-trainable params: 17 (72.00 Byte)\n",
      "_________________________________________________________________\n"
     ]
    }
   ],
   "execution_count": 8
  },
  {
   "metadata": {},
   "cell_type": "markdown",
   "source": "Another way to display the model's architecture",
   "id": "addc54cdaf6b03ad"
  },
  {
   "metadata": {
    "ExecuteTime": {
     "end_time": "2025-07-24T01:52:25.397931Z",
     "start_time": "2025-07-24T01:52:24.406299Z"
    }
   },
   "cell_type": "code",
   "source": "keras.utils.plot_model(model, \"mlp_fmnist_regressor.png\", show_shapes=True)",
   "id": "b2ae4570cba7989d",
   "outputs": [
    {
     "data": {
      "image/png": "[encoded data removed]",
      "text/plain": [
       "<IPython.core.display.Image object>"
      ]
     },
     "execution_count": 9,
     "metadata": {},
     "output_type": "execute_result"
    }
   ],
   "execution_count": 9
  },
  {
   "metadata": {},
   "cell_type": "markdown",
   "source": " ### Compiling the Model",
   "id": "acc17df21c86c1e8"
  },
  {
   "metadata": {
    "ExecuteTime": {
     "end_time": "2025-07-24T01:53:53.465016Z",
     "start_time": "2025-07-24T01:53:53.383682Z"
    }
   },
   "cell_type": "code",
   "source": "model.compile(loss=\"mse\", optimizer=\"sgd\", metrics=['RootMeanSquaredError'])",
   "id": "e6f9c0642db5af14",
   "outputs": [
    {
     "name": "stdout",
     "output_type": "stream",
     "text": [
      "WARNING:tensorflow:From C:\\Users\\DELL\\AppData\\Roaming\\Python\\Python311\\site-packages\\keras\\src\\optimizers\\__init__.py:309: The name tf.train.Optimizer is deprecated. Please use tf.compat.v1.train.Optimizer instead.\n",
      "\n"
     ]
    }
   ],
   "execution_count": 10
  },
  {
   "metadata": {},
   "cell_type": "markdown",
   "source": "###  Training and Evaluating the Model",
   "id": "e0e6c632e26627e1"
  },
  {
   "metadata": {
    "ExecuteTime": {
     "end_time": "2025-07-24T01:54:12.121893Z",
     "start_time": "2025-07-24T01:53:55.835716Z"
    }
   },
   "cell_type": "code",
   "source": "history = model.fit(X_train, y_train, epochs=20, validation_data=(X_valid, y_valid))",
   "id": "9a1c27b2526300e1",
   "outputs": [
    {
     "name": "stdout",
     "output_type": "stream",
     "text": [
      "Epoch 1/20\n",
      "WARNING:tensorflow:From C:\\Users\\DELL\\AppData\\Roaming\\Python\\Python311\\site-packages\\keras\\src\\utils\\tf_utils.py:492: The name tf.ragged.RaggedTensorValue is deprecated. Please use tf.compat.v1.ragged.RaggedTensorValue instead.\n",
      "\n",
      "WARNING:tensorflow:From C:\\Users\\DELL\\AppData\\Roaming\\Python\\Python311\\site-packages\\keras\\src\\engine\\base_layer_utils.py:384: The name tf.executing_eagerly_outside_functions is deprecated. Please use tf.compat.v1.executing_eagerly_outside_functions instead.\n",
      "\n",
      "363/363 [==============================] - 2s 3ms/step - loss: 1.0231 - root_mean_squared_error: 1.0115 - val_loss: 0.4638 - val_root_mean_squared_error: 0.6811\n",
      "Epoch 2/20\n",
      "363/363 [==============================] - 1s 2ms/step - loss: 0.4412 - root_mean_squared_error: 0.6642 - val_loss: 0.4883 - val_root_mean_squared_error: 0.6988\n",
      "Epoch 3/20\n",
      "363/363 [==============================] - 1s 2ms/step - loss: 0.3911 - root_mean_squared_error: 0.6254 - val_loss: 0.3630 - val_root_mean_squared_error: 0.6025\n",
      "Epoch 4/20\n",
      "363/363 [==============================] - 1s 2ms/step - loss: 0.3744 - root_mean_squared_error: 0.6119 - val_loss: 0.8253 - val_root_mean_squared_error: 0.9084\n",
      "Epoch 5/20\n",
      "363/363 [==============================] - 1s 3ms/step - loss: 0.3816 - root_mean_squared_error: 0.6177 - val_loss: 4.0498 - val_root_mean_squared_error: 2.0124\n",
      "Epoch 6/20\n",
      "363/363 [==============================] - 1s 2ms/step - loss: 0.3864 - root_mean_squared_error: 0.6216 - val_loss: 4.0969 - val_root_mean_squared_error: 2.0241\n",
      "Epoch 7/20\n",
      "363/363 [==============================] - 1s 2ms/step - loss: 0.3752 - root_mean_squared_error: 0.6126 - val_loss: 0.7907 - val_root_mean_squared_error: 0.8892\n",
      "Epoch 8/20\n",
      "363/363 [==============================] - 1s 2ms/step - loss: 0.3469 - root_mean_squared_error: 0.5890 - val_loss: 0.8268 - val_root_mean_squared_error: 0.9093\n",
      "Epoch 9/20\n",
      "363/363 [==============================] - 1s 2ms/step - loss: 0.3372 - root_mean_squared_error: 0.5807 - val_loss: 0.3802 - val_root_mean_squared_error: 0.6166\n",
      "Epoch 10/20\n",
      "363/363 [==============================] - 1s 2ms/step - loss: 0.3278 - root_mean_squared_error: 0.5725 - val_loss: 0.3437 - val_root_mean_squared_error: 0.5863\n",
      "Epoch 11/20\n",
      "363/363 [==============================] - 1s 2ms/step - loss: 0.3236 - root_mean_squared_error: 0.5689 - val_loss: 0.3328 - val_root_mean_squared_error: 0.5769\n",
      "Epoch 12/20\n",
      "363/363 [==============================] - 1s 2ms/step - loss: 0.3177 - root_mean_squared_error: 0.5637 - val_loss: 0.3256 - val_root_mean_squared_error: 0.5706\n",
      "Epoch 13/20\n",
      "363/363 [==============================] - 1s 2ms/step - loss: 0.3133 - root_mean_squared_error: 0.5597 - val_loss: 0.3406 - val_root_mean_squared_error: 0.5836\n",
      "Epoch 14/20\n",
      "363/363 [==============================] - 1s 2ms/step - loss: 0.3111 - root_mean_squared_error: 0.5577 - val_loss: 0.3290 - val_root_mean_squared_error: 0.5736\n",
      "Epoch 15/20\n",
      "363/363 [==============================] - 1s 2ms/step - loss: 0.3083 - root_mean_squared_error: 0.5553 - val_loss: 0.3016 - val_root_mean_squared_error: 0.5492\n",
      "Epoch 16/20\n",
      "363/363 [==============================] - 1s 2ms/step - loss: 0.3060 - root_mean_squared_error: 0.5532 - val_loss: 0.3195 - val_root_mean_squared_error: 0.5653\n",
      "Epoch 17/20\n",
      "363/363 [==============================] - 1s 2ms/step - loss: 0.3030 - root_mean_squared_error: 0.5504 - val_loss: 0.2957 - val_root_mean_squared_error: 0.5437\n",
      "Epoch 18/20\n",
      "363/363 [==============================] - 1s 2ms/step - loss: 0.2992 - root_mean_squared_error: 0.5470 - val_loss: 0.3018 - val_root_mean_squared_error: 0.5493\n",
      "Epoch 19/20\n",
      "363/363 [==============================] - 1s 2ms/step - loss: 0.2972 - root_mean_squared_error: 0.5451 - val_loss: 0.2993 - val_root_mean_squared_error: 0.5471\n",
      "Epoch 20/20\n",
      "363/363 [==============================] - 1s 2ms/step - loss: 0.2944 - root_mean_squared_error: 0.5426 - val_loss: 0.2983 - val_root_mean_squared_error: 0.5462\n"
     ]
    }
   ],
   "execution_count": 11
  },
  {
   "metadata": {
    "ExecuteTime": {
     "end_time": "2025-07-24T01:54:22.777780Z",
     "start_time": "2025-07-24T01:54:22.479927Z"
    }
   },
   "cell_type": "code",
   "source": "model.evaluate(X_test, y_test)",
   "id": "9cb1e7a58ed04565",
   "outputs": [
    {
     "name": "stdout",
     "output_type": "stream",
     "text": [
      "162/162 [==============================] - 0s 1ms/step - loss: 0.3049 - root_mean_squared_error: 0.5521\n"
     ]
    },
    {
     "data": {
      "text/plain": [
       "[0.3048500120639801, 0.552132248878479]"
      ]
     },
     "execution_count": 12,
     "metadata": {},
     "output_type": "execute_result"
    }
   ],
   "execution_count": 12
  },
  {
   "metadata": {
    "ExecuteTime": {
     "end_time": "2025-07-24T01:54:28.319120Z",
     "start_time": "2025-07-24T01:54:28.108014Z"
    }
   },
   "cell_type": "code",
   "source": [
    "pd.DataFrame(history.history).plot(figsize=(8, 5))\n",
    "plt.grid(True)\n",
    "plt.gca().set_ylim(0, 1)\n",
    "plt.show()"
   ],
   "id": "63cd4dfb370c08cc",
   "outputs": [
    {
     "data": {
      "text/plain": [
       "<Figure size 800x500 with 1 Axes>"
      ],
      "image/png": "[encoded data removed]"
     },
     "metadata": {},
     "output_type": "display_data"
    }
   ],
   "execution_count": 13
  },
  {
   "metadata": {},
   "cell_type": "markdown",
   "source": "### Using the Model to Make Predictions",
   "id": "651e105418e4f5a0"
  },
  {
   "metadata": {
    "ExecuteTime": {
     "end_time": "2025-07-24T01:54:40.882570Z",
     "start_time": "2025-07-24T01:54:40.711638Z"
    }
   },
   "cell_type": "code",
   "source": [
    "X_new = X_test[:3]\n",
    "y_pred = model.predict(X_new)\n",
    "print(y_pred)\n",
    "print(y_test[:3])"
   ],
   "id": "bed1f7bc814d8c84",
   "outputs": [
    {
     "name": "stdout",
     "output_type": "stream",
     "text": [
      "1/1 [==============================] - 0s 109ms/step\n",
      "[[0.6609118]\n",
      " [1.1852217]\n",
      " [4.7412186]]\n",
      "[0.477   0.458   5.00001]\n"
     ]
    }
   ],
   "execution_count": 14
  },
  {
   "metadata": {},
   "cell_type": "markdown",
   "source": "## Building a Regression MLP Using the Functional API",
   "id": "83dbc830bf7fe503"
  },
  {
   "metadata": {},
   "cell_type": "markdown",
   "source": "Wide & Deep neural network. It connects all or part of the inputs directly to the output layer, as shown in Figure 10-13. This architecture makes it possible for the neural network to learn both deep patterns (using the deep path) and simple rules (through the short path). In contrast, a regular MLP forces all the data to flow through the full stack of layers, thus simple patterns in the data may end up being distorted by this sequence of transformations",
   "id": "431984600ac3d30c"
  },
  {
   "metadata": {},
   "cell_type": "markdown",
   "source": "### Creating the Model Using the Functional API",
   "id": "6979d9f2e4c1d3a2"
  },
  {
   "metadata": {
    "ExecuteTime": {
     "end_time": "2025-07-24T02:12:19.681053Z",
     "start_time": "2025-07-24T02:12:19.607002Z"
    }
   },
   "cell_type": "code",
   "source": [
    "input = keras.layers.Input(shape=X_train.shape[1:])\n",
    "norm_input = norm_layer(input)\n",
    "hidden1 = keras.layers.Dense(50, activation=\"relu\")(norm_input)\n",
    "hidden2 = keras.layers.Dense(50, activation=\"relu\")(hidden1)\n",
    "hidden3 = keras.layers.Dense(50, activation=\"relu\")(hidden2)\n",
    "#concat = keras.layers.concatenate([norm_input, hidden3])\n",
    "concat = keras.layers.concatenate([hidden3])\n",
    "output = keras.layers.Dense(1)(concat)\n",
    "\n",
    "func_model = keras.models.Model(inputs=[input], outputs=[output])\n",
    "func_model.summary()"
   ],
   "id": "e5b3c82d34ce4010",
   "outputs": [
    {
     "name": "stdout",
     "output_type": "stream",
     "text": [
      "Model: \"model_4\"\n",
      "_________________________________________________________________\n",
      " Layer (type)                Output Shape              Param #   \n",
      "=================================================================\n",
      " input_9 (InputLayer)        [(None, 8)]               0         \n",
      "                                                                 \n",
      " normalization (Normalizati  (None, 8)                 17        \n",
      " on)                                                             \n",
      "                                                                 \n",
      " dense_34 (Dense)            (None, 50)                450       \n",
      "                                                                 \n",
      " dense_35 (Dense)            (None, 50)                2550      \n",
      "                                                                 \n",
      " dense_36 (Dense)            (None, 50)                2550      \n",
      "                                                                 \n",
      " concatenate_6 (Concatenate  (None, 50)                0         \n",
      " )                                                               \n",
      "                                                                 \n",
      " dense_37 (Dense)            (None, 1)                 51        \n",
      "                                                                 \n",
      "=================================================================\n",
      "Total params: 5618 (21.95 KB)\n",
      "Trainable params: 5601 (21.88 KB)\n",
      "Non-trainable params: 17 (72.00 Byte)\n",
      "_________________________________________________________________\n"
     ]
    }
   ],
   "execution_count": 34
  },
  {
   "metadata": {
    "ExecuteTime": {
     "end_time": "2025-07-24T02:12:27.910959Z",
     "start_time": "2025-07-24T02:12:27.673264Z"
    }
   },
   "cell_type": "code",
   "source": "keras.utils.plot_model(func_model, \"mlp_fmnist_regressor_functional.png\", show_shapes=True)",
   "id": "2ea4249a03a9ce89",
   "outputs": [
    {
     "data": {
      "image/png": "[encoded data removed]",
      "text/plain": [
       "<IPython.core.display.Image object>"
      ]
     },
     "execution_count": 35,
     "metadata": {},
     "output_type": "execute_result"
    }
   ],
   "execution_count": 35
  },
  {
   "metadata": {
    "ExecuteTime": {
     "end_time": "2025-07-24T02:14:43.024530Z",
     "start_time": "2025-07-24T02:14:43.011474Z"
    }
   },
   "cell_type": "code",
   "source": "func_model.compile(loss=\"mse\", optimizer=\"sgd\", metrics=['RootMeanSquaredError'])",
   "id": "e37bd58bccacbedc",
   "outputs": [],
   "execution_count": 40
  },
  {
   "metadata": {
    "ExecuteTime": {
     "end_time": "2025-07-24T02:14:58.737370Z",
     "start_time": "2025-07-24T02:14:44.491511Z"
    }
   },
   "cell_type": "code",
   "source": "func_history = func_model.fit(X_train, y_train, epochs=20, validation_data=(X_valid, y_valid))",
   "id": "acd6d64c3628ae9",
   "outputs": [
    {
     "name": "stdout",
     "output_type": "stream",
     "text": [
      "Epoch 1/20\n",
      "363/363 [==============================] - 1s 2ms/step - loss: 0.2704 - root_mean_squared_error: 0.5200 - val_loss: 0.2915 - val_root_mean_squared_error: 0.5399\n",
      "Epoch 2/20\n",
      "363/363 [==============================] - 1s 2ms/step - loss: 0.2700 - root_mean_squared_error: 0.5196 - val_loss: 0.2704 - val_root_mean_squared_error: 0.5200\n",
      "Epoch 3/20\n",
      "363/363 [==============================] - 1s 2ms/step - loss: 0.2679 - root_mean_squared_error: 0.5176 - val_loss: 0.3006 - val_root_mean_squared_error: 0.5483\n",
      "Epoch 4/20\n",
      "363/363 [==============================] - 1s 2ms/step - loss: 0.2680 - root_mean_squared_error: 0.5177 - val_loss: 0.2685 - val_root_mean_squared_error: 0.5182\n",
      "Epoch 5/20\n",
      "363/363 [==============================] - 1s 2ms/step - loss: 0.2662 - root_mean_squared_error: 0.5159 - val_loss: 0.2681 - val_root_mean_squared_error: 0.5177\n",
      "Epoch 6/20\n",
      "363/363 [==============================] - 1s 2ms/step - loss: 0.2658 - root_mean_squared_error: 0.5155 - val_loss: 0.2869 - val_root_mean_squared_error: 0.5356\n",
      "Epoch 7/20\n",
      "363/363 [==============================] - 1s 2ms/step - loss: 0.2664 - root_mean_squared_error: 0.5161 - val_loss: 0.2610 - val_root_mean_squared_error: 0.5109\n",
      "Epoch 8/20\n",
      "363/363 [==============================] - 1s 2ms/step - loss: 0.2628 - root_mean_squared_error: 0.5126 - val_loss: 0.2695 - val_root_mean_squared_error: 0.5191\n",
      "Epoch 9/20\n",
      "363/363 [==============================] - 1s 2ms/step - loss: 0.2634 - root_mean_squared_error: 0.5132 - val_loss: 0.3418 - val_root_mean_squared_error: 0.5847\n",
      "Epoch 10/20\n",
      "363/363 [==============================] - 1s 2ms/step - loss: 0.2625 - root_mean_squared_error: 0.5124 - val_loss: 0.3151 - val_root_mean_squared_error: 0.5613\n",
      "Epoch 11/20\n",
      "363/363 [==============================] - 1s 2ms/step - loss: 0.2623 - root_mean_squared_error: 0.5122 - val_loss: 0.3881 - val_root_mean_squared_error: 0.6230\n",
      "Epoch 12/20\n",
      "363/363 [==============================] - 1s 2ms/step - loss: 0.2624 - root_mean_squared_error: 0.5123 - val_loss: 0.3504 - val_root_mean_squared_error: 0.5919\n",
      "Epoch 13/20\n",
      "363/363 [==============================] - 1s 2ms/step - loss: 0.2612 - root_mean_squared_error: 0.5110 - val_loss: 0.3669 - val_root_mean_squared_error: 0.6057\n",
      "Epoch 14/20\n",
      "363/363 [==============================] - 1s 2ms/step - loss: 0.2614 - root_mean_squared_error: 0.5113 - val_loss: 0.2742 - val_root_mean_squared_error: 0.5237\n",
      "Epoch 15/20\n",
      "363/363 [==============================] - 1s 2ms/step - loss: 0.2589 - root_mean_squared_error: 0.5088 - val_loss: 0.4174 - val_root_mean_squared_error: 0.6461\n",
      "Epoch 16/20\n",
      "363/363 [==============================] - 1s 2ms/step - loss: 0.2604 - root_mean_squared_error: 0.5103 - val_loss: 0.3108 - val_root_mean_squared_error: 0.5575\n",
      "Epoch 17/20\n",
      "363/363 [==============================] - 1s 2ms/step - loss: 0.2591 - root_mean_squared_error: 0.5090 - val_loss: 0.2824 - val_root_mean_squared_error: 0.5314\n",
      "Epoch 18/20\n",
      "363/363 [==============================] - 1s 2ms/step - loss: 0.2567 - root_mean_squared_error: 0.5067 - val_loss: 0.2615 - val_root_mean_squared_error: 0.5114\n",
      "Epoch 19/20\n",
      "363/363 [==============================] - 1s 2ms/step - loss: 0.2572 - root_mean_squared_error: 0.5071 - val_loss: 0.2987 - val_root_mean_squared_error: 0.5465\n",
      "Epoch 20/20\n",
      "363/363 [==============================] - 1s 2ms/step - loss: 0.2558 - root_mean_squared_error: 0.5058 - val_loss: 0.2887 - val_root_mean_squared_error: 0.5373\n"
     ]
    }
   ],
   "execution_count": 41
  },
  {
   "metadata": {
    "ExecuteTime": {
     "end_time": "2025-07-24T02:15:05.603870Z",
     "start_time": "2025-07-24T02:15:05.312928Z"
    }
   },
   "cell_type": "code",
   "source": "func_model.evaluate(X_test, y_test)",
   "id": "95273c6f3b3cc59a",
   "outputs": [
    {
     "name": "stdout",
     "output_type": "stream",
     "text": [
      "162/162 [==============================] - 0s 1ms/step - loss: 0.2948 - root_mean_squared_error: 0.5429\n"
     ]
    },
    {
     "data": {
      "text/plain": [
       "[0.294765442609787, 0.5429230332374573]"
      ]
     },
     "execution_count": 42,
     "metadata": {},
     "output_type": "execute_result"
    }
   ],
   "execution_count": 42
  },
  {
   "metadata": {},
   "cell_type": "markdown",
   "source": "But what if you want to send a subset of the features through the wide path, and a  different subset (possibly overlapping) through the deep path (see Figure 10-14)? In this case, one solution is to use multiple inputs.",
   "id": "dcfa5242ccc35e75"
  },
  {
   "metadata": {},
   "cell_type": "code",
   "outputs": [],
   "execution_count": null,
   "source": [
    "inputA = keras.layers.Input(shape=[5])\n",
    "inputB = keras.layers.Input(shape=[6])\n",
    "hidden1 = keras.layers.Dense(50, activation=\"relu\")(inputB)\n",
    "hidden2 = keras.layers.Dense(50, activation=\"relu\")(hidden1)\n",
    "concat = keras.layers.Concatenate()[inputA, hidden2]\n",
    "output = keras.layers.Dense(1)(concat)\n",
    "\n",
    "mi_model = keras.models.Model(inputs=[inputA, inputB], output=[output])\n",
    "mi_model.summary()"
   ],
   "id": "968a6594ce9a3b77"
  },
  {
   "metadata": {},
   "cell_type": "code",
   "outputs": [],
   "execution_count": null,
   "source": "keras.utils.plot_model(mi_model, \"mlp_fmnist_regressor_functional_multiple_input.png\", show_shapes=True)",
   "id": "d48ef69abc53ca77"
  },
  {
   "metadata": {},
   "cell_type": "markdown",
   "source": [
    "There are also many use cases in which you may want to have multiple outputs:\n",
    "\n",
    "1. The task may demand it, for example you may want to locate and classify the  main object in a picture. This is both a regression task (finding the coordinates of the object’s center, as well as its width and height) and a classification task."
   ],
   "id": "a3219ac9c9e0d5d2"
  },
  {
   "metadata": {},
   "cell_type": "code",
   "outputs": [],
   "execution_count": null,
   "source": [
    "inputA = keras.layers.Input(shape=[5])\n",
    "inputB = keras.layers.Input(shape=[6])\n",
    "hidden1 = keras.layers.Dense(50, activation=\"relu\")(inputB)\n",
    "hidden2 = keras.layers.Dense(50, activation=\"relu\")(hidden1)\n",
    "concat = keras.layers.Concatenate()[inputA, hidden2]\n",
    "output = keras.layers.Dense(1)(concat)\n",
    "aux_output = keras.layers.Dense(1)(hidden2)\n",
    "\n",
    "mo_model = keras.models.Model(inputs=[inputA, inputB], outputs=[output, aux_output])\n",
    "mo_model.summary()"
   ],
   "id": "4805c4c88861fa20"
  },
  {
   "metadata": {},
   "cell_type": "code",
   "outputs": [],
   "execution_count": null,
   "source": "keras.utils.plot_model(mo_model, \"mlp_fmnist_regressor_functional_multiple_output.png\", show_shapes=True)",
   "id": "8ed7422b0fb1905f"
  },
  {
   "metadata": {},
   "cell_type": "markdown",
   "source": "##  Building Dynamic Models Using the Subclassing API",
   "id": "c3102283b7ec31e6"
  },
  {
   "metadata": {},
   "cell_type": "markdown",
   "source": "Simply subclass the Model class, create the layers you need in the constructor, and use them to perform the computations you want in the call() method.  For example, creating an instance of the following WideAndDeepModel class gives us an equivalent model to the one we just built with the Functional API.",
   "id": "41d2ebbdc80421c9"
  },
  {
   "metadata": {},
   "cell_type": "code",
   "outputs": [],
   "execution_count": null,
   "source": [
    "class WideAndDeepModel(keras.Model):\n",
    "    def __init__(self, units=30, activation=\"relu\", **kwargs):\n",
    "        super().__init__(**kwargs)\n",
    "        self.hidden1 = keras.layers.Dense(units, activation=activation)\n",
    "        self.hidden2 = keras.layers.Dense(units, activation=activation)\n",
    "        self.main_output = keras.layers.Dense(1)\n",
    "        self.aux_output = keras.layers.Dense(1)\n",
    "\n",
    "    def call(self, inputs):\n",
    "        inputA, inputB = inputs\n",
    "        hidden1 = self.hidden1(inputB)\n",
    "        hidden2 = self.hidden2(hidden1)\n",
    "        concat = keras.layers.Concatenate()[inputA, hidden2]\n",
    "        main_output = self.main_output(concat)\n",
    "        aux_output = self.aux_output(hidden2)\n",
    "        return main_output, aux_output\n",
    "\n",
    "sub_model = WideAndDeepModel()"
   ],
   "id": "fb8313af128e294f"
  }
 ],
 "metadata": {
  "kernelspec": {
   "display_name": "Python (venv)",
   "language": "python",
   "name": "tf-keras-labs"
  },
  "language_info": {
   "codemirror_mode": {
    "name": "ipython",
    "version": 2
   },
   "file_extension": ".py",
   "mimetype": "text/x-python",
   "name": "python",
   "nbconvert_exporter": "python",
   "pygments_lexer": "ipython2",
   "version": "2.7.6"
  }
 },
 "nbformat": 4,
 "nbformat_minor": 5
}
